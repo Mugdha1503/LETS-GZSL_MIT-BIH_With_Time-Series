{
  "cells": [
    {
      "cell_type": "markdown",
      "metadata": {
        "id": "view-in-github",
        "colab_type": "text"
      },
      "source": [
        "<a href=\"https://colab.research.google.com/github/Mugdha1503/LETS-GZSL_MIT-BIH_With_Time-Series/blob/main/LETS_GZSL_MIT_BIH_With_Time_Series.ipynb\" target=\"_parent\"><img src=\"https://colab.research.google.com/assets/colab-badge.svg\" alt=\"Open In Colab\"/></a>"
      ]
    },
    {
      "cell_type": "code",
      "execution_count": null,
      "metadata": {
        "colab": {
          "base_uri": "https://localhost:8080/"
        },
        "id": "NzcVwr3xbYoW",
        "outputId": "45aa53a7-f72e-4296-8ec6-f3a2fd6acae2"
      },
      "outputs": [
        {
          "output_type": "stream",
          "name": "stdout",
          "text": [
            "Drive already mounted at /content/drive; to attempt to forcibly remount, call drive.mount(\"/content/drive\", force_remount=True).\n"
          ]
        }
      ],
      "source": [
        "from google.colab import drive\n",
        "drive.mount('/content/drive')"
      ]
    },
    {
      "cell_type": "code",
      "execution_count": null,
      "metadata": {
        "colab": {
          "base_uri": "https://localhost:8080/"
        },
        "id": "vPoDGwfYbnNh",
        "outputId": "422894f2-aa8f-479a-da72-15d9fa30df31"
      },
      "outputs": [
        {
          "output_type": "stream",
          "name": "stdout",
          "text": [
            "Collecting antropy\n",
            "  Downloading antropy-0.1.6.tar.gz (17 kB)\n",
            "  Installing build dependencies ... \u001b[?25l\u001b[?25hdone\n",
            "  Getting requirements to build wheel ... \u001b[?25l\u001b[?25hdone\n",
            "  Preparing metadata (pyproject.toml) ... \u001b[?25l\u001b[?25hdone\n",
            "Requirement already satisfied: numpy in /usr/local/lib/python3.10/dist-packages (from antropy) (1.23.5)\n",
            "Requirement already satisfied: scipy in /usr/local/lib/python3.10/dist-packages (from antropy) (1.11.4)\n",
            "Requirement already satisfied: scikit-learn in /usr/local/lib/python3.10/dist-packages (from antropy) (1.2.2)\n",
            "Requirement already satisfied: numba>=0.57 in /usr/local/lib/python3.10/dist-packages (from antropy) (0.58.1)\n",
            "Collecting stochastic (from antropy)\n",
            "  Downloading stochastic-0.7.0-py3-none-any.whl (48 kB)\n",
            "\u001b[2K     \u001b[90m━━━━━━━━━━━━━━━━━━━━━━━━━━━━━━━━━━━━━━━━\u001b[0m \u001b[32m48.1/48.1 kB\u001b[0m \u001b[31m1.6 MB/s\u001b[0m eta \u001b[36m0:00:00\u001b[0m\n",
            "\u001b[?25hRequirement already satisfied: llvmlite<0.42,>=0.41.0dev0 in /usr/local/lib/python3.10/dist-packages (from numba>=0.57->antropy) (0.41.1)\n",
            "Requirement already satisfied: joblib>=1.1.1 in /usr/local/lib/python3.10/dist-packages (from scikit-learn->antropy) (1.3.2)\n",
            "Requirement already satisfied: threadpoolctl>=2.0.0 in /usr/local/lib/python3.10/dist-packages (from scikit-learn->antropy) (3.2.0)\n",
            "Building wheels for collected packages: antropy\n",
            "  Building wheel for antropy (pyproject.toml) ... \u001b[?25l\u001b[?25hdone\n",
            "  Created wheel for antropy: filename=antropy-0.1.6-py3-none-any.whl size=16880 sha256=f64205caaf9a757a7b3f2f61f55b4438b1a88ace231a22ac8d37811e6e2d7d30\n",
            "  Stored in directory: /root/.cache/pip/wheels/98/22/06/e91d7bb213c7133d5e2eb34258623e1e19928d5f05e1ee6812\n",
            "Successfully built antropy\n",
            "Installing collected packages: stochastic, antropy\n",
            "Successfully installed antropy-0.1.6 stochastic-0.7.0\n"
          ]
        }
      ],
      "source": [
        "!pip install antropy"
      ]
    },
    {
      "cell_type": "code",
      "execution_count": null,
      "metadata": {
        "id": "jVWeIj0gbpcH"
      },
      "outputs": [],
      "source": [
        "import numpy as np\n",
        "import pandas as pd\n",
        "import matplotlib.pyplot as plt\n",
        "import tensorflow as tf\n",
        "import sys\n",
        "import os\n",
        "import torch\n",
        "# from antropy import app_entropy, sample_entropy\n",
        "from statsmodels.tsa.stattools import adfuller\n",
        "from scipy.stats import skew, kurtosis\n",
        "import gc\n",
        "from sklearn.metrics import accuracy_score, recall_score, precision_score, f1_score, classification_report, auc\n",
        "from sklearn.preprocessing import StandardScaler"
      ]
    },
    {
      "cell_type": "code",
      "execution_count": null,
      "metadata": {
        "colab": {
          "base_uri": "https://localhost:8080/"
        },
        "id": "NPgQPE73bw5n",
        "outputId": "ccd6c914-dd97-40d8-da79-aa0dc24e99dc"
      },
      "outputs": [
        {
          "output_type": "stream",
          "name": "stdout",
          "text": [
            "/content/drive/MyDrive\n"
          ]
        }
      ],
      "source": [
        "%cd /content/drive/MyDrive"
      ]
    },
    {
      "cell_type": "code",
      "execution_count": null,
      "metadata": {
        "colab": {
          "base_uri": "https://localhost:8080/"
        },
        "id": "aEezV_DMcCPG",
        "outputId": "a9f728d7-0e4c-44a7-d364-e3a51ae629b2"
      },
      "outputs": [
        {
          "output_type": "stream",
          "name": "stdout",
          "text": [
            "\u001b[0m\u001b[01;34mMyDrive\u001b[0m/\n"
          ]
        }
      ],
      "source": [
        "%ls .."
      ]
    },
    {
      "cell_type": "code",
      "execution_count": null,
      "metadata": {
        "id": "KKZcMpeXdOYa"
      },
      "outputs": [],
      "source": [
        "seed = 420\n",
        "np.random.seed(seed)"
      ]
    },
    {
      "cell_type": "code",
      "execution_count": null,
      "metadata": {
        "id": "QqMBNLcQdVrL"
      },
      "outputs": [],
      "source": [
        "df = pd.read_csv('/content/mitbih.csv')"
      ]
    },
    {
      "cell_type": "code",
      "execution_count": null,
      "metadata": {
        "colab": {
          "base_uri": "https://localhost:8080/"
        },
        "id": "-lJQqmBIqntp",
        "outputId": "b5997073-a233-4915-c2f1-d6d7eb319789"
      },
      "outputs": [
        {
          "output_type": "execute_result",
          "data": {
            "text/plain": [
              "(107885, 301)"
            ]
          },
          "metadata": {},
          "execution_count": 31
        }
      ],
      "source": [
        "df.shape"
      ]
    },
    {
      "cell_type": "code",
      "source": [
        "df = df.sample(frac=0.4,random_state=2)"
      ],
      "metadata": {
        "id": "KHlRD1ivdVfe"
      },
      "execution_count": null,
      "outputs": []
    },
    {
      "cell_type": "code",
      "source": [
        "df.shape"
      ],
      "metadata": {
        "colab": {
          "base_uri": "https://localhost:8080/"
        },
        "id": "WjxKryXtdWhL",
        "outputId": "b55abc86-be79-4741-cd60-d51b517fd420"
      },
      "execution_count": null,
      "outputs": [
        {
          "output_type": "execute_result",
          "data": {
            "text/plain": [
              "(43154, 301)"
            ]
          },
          "metadata": {},
          "execution_count": 33
        }
      ]
    },
    {
      "cell_type": "code",
      "execution_count": null,
      "metadata": {
        "id": "kTWFYjXUqt2O"
      },
      "outputs": [],
      "source": [
        "from sklearn.model_selection import train_test_split"
      ]
    },
    {
      "cell_type": "code",
      "execution_count": null,
      "metadata": {
        "id": "FcA6MHCWq0T4"
      },
      "outputs": [],
      "source": [
        "X_train,X_test,y_train,y_test = train_test_split(df.iloc[:,:-1],df.iloc[:,-1],test_size=0.3,random_state=0)"
      ]
    },
    {
      "cell_type": "code",
      "execution_count": null,
      "metadata": {
        "colab": {
          "base_uri": "https://localhost:8080/"
        },
        "id": "MdA1bvYYrJK1",
        "outputId": "9b3034de-37f7-49c4-98ad-20183167860a"
      },
      "outputs": [
        {
          "output_type": "execute_result",
          "data": {
            "text/plain": [
              "1    25154\n",
              "3     2223\n",
              "2     1861\n",
              "4      725\n",
              "5      244\n",
              "Name: 1, dtype: int64"
            ]
          },
          "metadata": {},
          "execution_count": 36
        }
      ],
      "source": [
        "y_train.value_counts()"
      ]
    },
    {
      "cell_type": "code",
      "execution_count": null,
      "metadata": {
        "colab": {
          "base_uri": "https://localhost:8080/"
        },
        "id": "sTlChW2ZrLuD",
        "outputId": "c25b54eb-0a52-476c-992f-aa1bda05b9f1"
      },
      "outputs": [
        {
          "output_type": "execute_result",
          "data": {
            "text/plain": [
              "1    10723\n",
              "3      948\n",
              "2      843\n",
              "4      325\n",
              "5      108\n",
              "Name: 1, dtype: int64"
            ]
          },
          "metadata": {},
          "execution_count": 37
        }
      ],
      "source": [
        "y_test.value_counts()"
      ]
    },
    {
      "cell_type": "code",
      "execution_count": null,
      "metadata": {
        "id": "7_--gGhWrOn7"
      },
      "outputs": [],
      "source": [
        "var = df.iloc[:,-1].value_counts()"
      ]
    },
    {
      "cell_type": "code",
      "execution_count": null,
      "metadata": {
        "colab": {
          "base_uri": "https://localhost:8080/",
          "height": 443
        },
        "id": "2mrDqKYXrR94",
        "outputId": "a7232dd1-34a9-41f7-99ee-27a12cc826d0"
      },
      "outputs": [
        {
          "output_type": "execute_result",
          "data": {
            "text/plain": [
              "<Axes: >"
            ]
          },
          "metadata": {},
          "execution_count": 39
        },
        {
          "output_type": "display_data",
          "data": {
            "text/plain": [
              "<Figure size 640x480 with 1 Axes>"
            ],
            "image/png": "[encoded data removed]"
          },
          "metadata": {}
        }
      ],
      "source": [
        "var.plot(kind='bar')"
      ]
    },
    {
      "cell_type": "code",
      "execution_count": null,
      "metadata": {
        "id": "SMtcbJJcra57"
      },
      "outputs": [],
      "source": [
        "df_train = pd.concat([X_train,y_train],axis=1)"
      ]
    },
    {
      "cell_type": "code",
      "execution_count": null,
      "metadata": {
        "colab": {
          "base_uri": "https://localhost:8080/"
        },
        "id": "Wj34vAOksthj",
        "outputId": "374735cc-d992-461c-ad26-170035a0a09a"
      },
      "outputs": [
        {
          "output_type": "execute_result",
          "data": {
            "text/plain": [
              "(30207, 301)"
            ]
          },
          "metadata": {},
          "execution_count": 41
        }
      ],
      "source": [
        "df_train.shape"
      ]
    },
    {
      "cell_type": "code",
      "execution_count": null,
      "metadata": {
        "id": "1AnIuAzOtI2x"
      },
      "outputs": [],
      "source": [
        "df_test = pd.concat([X_test,y_test],axis=1)"
      ]
    },
    {
      "cell_type": "code",
      "execution_count": null,
      "metadata": {
        "colab": {
          "base_uri": "https://localhost:8080/"
        },
        "id": "oiVlTs9xta8y",
        "outputId": "9b19459d-b843-4c61-c031-97e566a0b087"
      },
      "outputs": [
        {
          "output_type": "execute_result",
          "data": {
            "text/plain": [
              "(12947, 301)"
            ]
          },
          "metadata": {},
          "execution_count": 43
        }
      ],
      "source": [
        "df_test.shape"
      ]
    },
    {
      "cell_type": "code",
      "execution_count": null,
      "metadata": {
        "id": "P8ayJ2hztcHl"
      },
      "outputs": [],
      "source": [
        "df = df.rename(columns = {'1':'Label'})"
      ]
    },
    {
      "cell_type": "code",
      "execution_count": null,
      "metadata": {
        "colab": {
          "base_uri": "https://localhost:8080/"
        },
        "id": "1pBEyxDxtfGy",
        "outputId": "77d2c0d5-3338-4186-afd0-ebaf68d63d8f"
      },
      "outputs": [
        {
          "output_type": "execute_result",
          "data": {
            "text/plain": [
              "1    35877\n",
              "3     3171\n",
              "2     2704\n",
              "4     1050\n",
              "5      352\n",
              "Name: Label, dtype: int64"
            ]
          },
          "metadata": {},
          "execution_count": 45
        }
      ],
      "source": [
        "df.Label.value_counts()"
      ]
    },
    {
      "cell_type": "code",
      "execution_count": null,
      "metadata": {
        "id": "H6F9vXJ-trks"
      },
      "outputs": [],
      "source": [
        "df.Label = df.Label-1"
      ]
    },
    {
      "cell_type": "code",
      "execution_count": null,
      "metadata": {
        "colab": {
          "base_uri": "https://localhost:8080/"
        },
        "id": "YFQk-NircTFA",
        "outputId": "c11d5869-a6bd-4ae8-cd4a-eef443a8909b"
      },
      "outputs": [
        {
          "output_type": "execute_result",
          "data": {
            "text/plain": [
              "0    35877\n",
              "2     3171\n",
              "1     2704\n",
              "3     1050\n",
              "4      352\n",
              "Name: Label, dtype: int64"
            ]
          },
          "metadata": {},
          "execution_count": 47
        }
      ],
      "source": [
        "df.Label.value_counts().sort_values(ascending=False)"
      ]
    },
    {
      "cell_type": "code",
      "execution_count": null,
      "metadata": {
        "id": "P7WgJPHDebvB"
      },
      "outputs": [],
      "source": [
        "class_labels = df.Label.value_counts().sort_values(ascending=False).index.tolist()"
      ]
    },
    {
      "cell_type": "code",
      "execution_count": null,
      "metadata": {
        "colab": {
          "base_uri": "https://localhost:8080/"
        },
        "id": "vLE6TLEfet2B",
        "outputId": "3af3e235-382b-42f7-9f1d-05c9438c9514"
      },
      "outputs": [
        {
          "output_type": "execute_result",
          "data": {
            "text/plain": [
              "[0, 2, 1, 3, 4]"
            ]
          },
          "metadata": {},
          "execution_count": 49
        }
      ],
      "source": [
        "class_labels"
      ]
    },
    {
      "cell_type": "code",
      "execution_count": null,
      "metadata": {
        "id": "riZ95WH9ewxw"
      },
      "outputs": [],
      "source": [
        "y_count = df.Label.nunique()"
      ]
    },
    {
      "cell_type": "code",
      "execution_count": null,
      "metadata": {
        "colab": {
          "base_uri": "https://localhost:8080/"
        },
        "id": "3xizKJgze0fP",
        "outputId": "51767dd6-cef9-47a1-a184-14499247e01a"
      },
      "outputs": [
        {
          "output_type": "execute_result",
          "data": {
            "text/plain": [
              "5"
            ]
          },
          "metadata": {},
          "execution_count": 51
        }
      ],
      "source": [
        "y_count"
      ]
    },
    {
      "cell_type": "code",
      "execution_count": null,
      "metadata": {
        "id": "FXrVWTlYe199"
      },
      "outputs": [],
      "source": [
        "df.columns = np.arange(len(df.columns))"
      ]
    },
    {
      "cell_type": "code",
      "execution_count": null,
      "metadata": {
        "id": "9meIvuAsfd72"
      },
      "outputs": [],
      "source": [
        "df = df.rename(columns = {300:'Label'})"
      ]
    },
    {
      "cell_type": "code",
      "execution_count": null,
      "metadata": {
        "colab": {
          "base_uri": "https://localhost:8080/"
        },
        "id": "1CPAdZI8f2Qo",
        "outputId": "d56113c0-92dc-469b-9fa9-d0c6d674fa6f"
      },
      "outputs": [
        {
          "output_type": "execute_result",
          "data": {
            "text/plain": [
              "0    35877\n",
              "2     3171\n",
              "1     2704\n",
              "3     1050\n",
              "4      352\n",
              "Name: Label, dtype: int64"
            ]
          },
          "metadata": {},
          "execution_count": 54
        }
      ],
      "source": [
        "df.Label.value_counts()"
      ]
    },
    {
      "cell_type": "code",
      "execution_count": null,
      "metadata": {
        "id": "oIGb6tSFf9eY"
      },
      "outputs": [],
      "source": [
        "def sample_tasks(df, test_split = 0.2):\n",
        "\n",
        "    n_train = np.floor(y_count/2).astype(np.int32)\n",
        "    if (y_count - n_train) %2 != 0:\n",
        "      n_train = np.ceil(y_count/2).astype(np.int32)\n",
        "    n_valtest = y_count - n_train\n",
        "    n_val = np.floor(n_valtest/2).astype(np.int32)\n",
        "    n_test = n_valtest - n_val\n",
        "\n",
        "    train_labels = class_labels[:n_train]\n",
        "    val_labels = class_labels[n_train: n_train+n_val]\n",
        "    test_labels = class_labels[n_train+n_val: n_train+n_val+n_test]\n",
        "\n",
        "    print(train_labels, val_labels, test_labels)\n",
        "\n",
        "    df_train = df[df['Label'].isin(train_labels)].sample(frac=1, random_state=seed)\n",
        "    df_val = df[df['Label'].isin(val_labels)].sample(frac=1, random_state=seed)\n",
        "    df_test = df[df['Label'].isin(test_labels)].sample(frac=1, random_state=seed)\n",
        "\n",
        "    n_tr = int(df_train.shape[0]*0.6)\n",
        "    df_tr = df_train[:n_tr]\n",
        "\n",
        "    y_train = df_tr['Label']\n",
        "    X_train = df_tr.drop(['Label'], axis=1)\n",
        "\n",
        "    df_rem = df_train[n_tr:]\n",
        "    n_v = int(df_rem.shape[0]*0.5)\n",
        "    y_val_seen = df_rem[:n_v]['Label']\n",
        "    X_val_seen = df_rem[:n_v].drop(['Label'], axis=1)\n",
        "    y_test_seen = df_rem[n_v:]['Label']\n",
        "    X_test_seen = df_rem[n_v:].drop(['Label'], axis=1)\n",
        "\n",
        "    n_se = int(df_val.shape[0]*0.8)\n",
        "    y_val_unseen = df_val[:n_se]['Label']\n",
        "    X_val_unseen = df_val[:n_se].drop(['Label'], axis=1)\n",
        "    y_test_seen2 = df_val[n_se:]['Label']\n",
        "    X_test_seen2 = df_val[n_se:].drop(['Label'], axis=1)\n",
        "\n",
        "    y_test_unseen = df_test['Label']\n",
        "    X_test_unseen = df_test.drop(['Label'], axis=1)\n",
        "\n",
        "    return X_train, y_train, X_val_seen, y_val_seen, X_val_unseen, y_val_unseen, X_test_seen, \\\n",
        "        y_test_seen, X_test_seen2, y_test_seen2, X_test_unseen, y_test_unseen\n"
      ]
    },
    {
      "cell_type": "code",
      "execution_count": null,
      "metadata": {
        "colab": {
          "base_uri": "https://localhost:8080/"
        },
        "id": "Cs31RDiYgKf0",
        "outputId": "3af274eb-0400-4d2a-81f0-91430006c23f"
      },
      "outputs": [
        {
          "output_type": "stream",
          "name": "stdout",
          "text": [
            "[0, 2, 1] [3] [4]\n"
          ]
        }
      ],
      "source": [
        "X_train, y_train, X_val_seen, y_val_seen, X_val_unseen, y_val_unseen, X_test_seen, \\\n",
        "        y_test_seen, X_test_unseen, y_test_unseen,  X_test_seen2, y_test_seen2, = \\\n",
        "        sample_tasks(df)"
      ]
    },
    {
      "cell_type": "code",
      "execution_count": null,
      "metadata": {
        "colab": {
          "base_uri": "https://localhost:8080/"
        },
        "id": "9I40pJZzgOqS",
        "outputId": "12537246-5c05-42d2-f2ff-49a4e9803864"
      },
      "outputs": [
        {
          "output_type": "execute_result",
          "data": {
            "text/plain": [
              "4    352\n",
              "Name: Label, dtype: int64"
            ]
          },
          "metadata": {},
          "execution_count": 57
        }
      ],
      "source": [
        "y_test_seen2.value_counts()"
      ]
    },
    {
      "cell_type": "code",
      "execution_count": null,
      "metadata": {
        "colab": {
          "base_uri": "https://localhost:8080/"
        },
        "id": "ajUI2k_ygUrX",
        "outputId": "483217f8-6904-449f-ba26-e8bd3b376ff5"
      },
      "outputs": [
        {
          "output_type": "execute_result",
          "data": {
            "text/plain": [
              "(25051, 300)"
            ]
          },
          "metadata": {},
          "execution_count": 58
        }
      ],
      "source": [
        "X_train.shape"
      ]
    },
    {
      "cell_type": "code",
      "execution_count": null,
      "metadata": {
        "colab": {
          "base_uri": "https://localhost:8080/"
        },
        "id": "K9tBLqbhgYf8",
        "outputId": "1d25a648-3458-4c9d-f019-d64311e7ccdc"
      },
      "outputs": [
        {
          "output_type": "stream",
          "name": "stdout",
          "text": [
            "(25051, 300, 1) (8350, 300, 1) (840, 300, 1) (8351, 300, 1) (210, 300, 1)\n"
          ]
        }
      ],
      "source": [
        "X_train = np.expand_dims(X_train.values, axis=-1)\n",
        "X_val_seen = np.expand_dims(X_val_seen.values, axis=-1)\n",
        "X_val_unseen = np.expand_dims(X_val_unseen.values, axis=-1)\n",
        "X_test_seen = np.expand_dims(X_test_seen.values, axis=-1)\n",
        "X_test_unseen = np.expand_dims(X_test_unseen.values, axis=-1)\n",
        "print(X_train.shape, X_val_seen.shape, X_val_unseen.shape, X_test_seen.shape, X_test_unseen.shape)"
      ]
    },
    {
      "cell_type": "code",
      "execution_count": null,
      "metadata": {
        "id": "Nyy9VmwZgdfT"
      },
      "outputs": [],
      "source": [
        "gc.collect()\n",
        "torch.cuda.empty_cache()"
      ]
    },
    {
      "cell_type": "code",
      "execution_count": null,
      "metadata": {
        "id": "xEVLBv2Sgk1-"
      },
      "outputs": [],
      "source": [
        "best_loss = np.inf\n",
        "def es(model, loss):\n",
        "  global best_loss\n",
        "  if (loss<best_loss):\n",
        "    best_loss = loss\n",
        "    torch.save(model.net.state_dict(), './embedding_ECG_checkpoint.pt')"
      ]
    },
    {
      "cell_type": "code",
      "execution_count": null,
      "metadata": {
        "colab": {
          "base_uri": "https://localhost:8080/"
        },
        "id": "HqH9s2O1g7fN",
        "outputId": "8d5daeb0-49ad-47b2-dd68-55d317d64c04"
      },
      "outputs": [
        {
          "output_type": "stream",
          "name": "stdout",
          "text": [
            "/content/drive/.shortcut-targets-by-id/1SpfYZ8YKWlxf-P0yGmyZHgL5Lo8x3Fna/TS-GZSL/src\n"
          ]
        }
      ],
      "source": [
        "%cd /content/drive/MyDrive/TS-GZSL/src"
      ]
    },
    {
      "cell_type": "code",
      "execution_count": null,
      "metadata": {
        "colab": {
          "base_uri": "https://localhost:8080/"
        },
        "id": "LM_gI5T4hSUd",
        "outputId": "8d5da6d3-82ad-48a4-c9ff-4b767fb0b82c"
      },
      "outputs": [
        {
          "output_type": "stream",
          "name": "stdout",
          "text": [
            "\u001b[0m\u001b[01;34mdata\u001b[0m/  \u001b[01;34mPaper\u001b[0m/  \u001b[01;34msrc\u001b[0m/  \u001b[01;34mts2vec\u001b[0m/\n"
          ]
        }
      ],
      "source": [
        "%ls .."
      ]
    },
    {
      "cell_type": "code",
      "execution_count": null,
      "metadata": {
        "id": "ccI-dCH7hVvj"
      },
      "outputs": [],
      "source": [
        "sys.path.insert(1, '/content/drive/MyDrive/TS-GZSL/ts2vec')\n",
        "import ts2vec\n",
        "from ts2vec import TS2Vec"
      ]
    },
    {
      "cell_type": "code",
      "execution_count": null,
      "metadata": {
        "id": "CyK0LaqQhbUX"
      },
      "outputs": [],
      "source": [
        "enc = ts2vec.TS2Vec(\n",
        "    output_dims=256,\n",
        "    input_dims = 1,\n",
        "    hidden_dims = 256,\n",
        "    depth=6,\n",
        "    batch_size=128,\n",
        "    lr=1e-3,\n",
        "    device = 'cuda:0',\n",
        "    after_epoch_callback = es\n",
        ")"
      ]
    },
    {
      "cell_type": "code",
      "execution_count": null,
      "metadata": {
        "colab": {
          "base_uri": "https://localhost:8080/"
        },
        "id": "CuTBktW8hij1",
        "outputId": "2b3287bb-2c88-4435-931d-367f480c614f"
      },
      "outputs": [
        {
          "output_type": "execute_result",
          "data": {
            "text/plain": [
              "<All keys matched successfully>"
            ]
          },
          "metadata": {},
          "execution_count": 66
        }
      ],
      "source": [
        "enc.net.load_state_dict(torch.load('./embedding_ECG_checkpoint.pt'))"
      ]
    },
    {
      "cell_type": "code",
      "execution_count": null,
      "metadata": {
        "id": "YzxbMmdoia-O"
      },
      "outputs": [],
      "source": [
        "X_train_embed = enc.encode(X_train, encoding_window='full_series')\n",
        "X_val_seen_embed = enc.encode(X_val_seen, encoding_window='full_series')\n",
        "X_val_unseen_embed = enc.encode(X_val_unseen, encoding_window='full_series')\n",
        "X_test_seen_embed = enc.encode(X_test_seen, encoding_window='full_series')\n",
        "X_test_unseen_embed = enc.encode(X_test_unseen, encoding_window='full_series')"
      ]
    },
    {
      "cell_type": "code",
      "source": [
        "!pip install tsfresh"
      ],
      "metadata": {
        "colab": {
          "base_uri": "https://localhost:8080/"
        },
        "id": "x-bUJXmQrZKP",
        "outputId": "39538fb7-5176-45c4-b661-35e8f8db2ff2"
      },
      "execution_count": null,
      "outputs": [
        {
          "output_type": "stream",
          "name": "stdout",
          "text": [
            "Collecting tsfresh\n",
            "  Downloading tsfresh-0.20.1-py2.py3-none-any.whl (95 kB)\n",
            "\u001b[2K     \u001b[90m━━━━━━━━━━━━━━━━━━━━━━━━━━━━━━━━━━━━━━━━\u001b[0m \u001b[32m95.3/95.3 kB\u001b[0m \u001b[31m2.1 MB/s\u001b[0m eta \u001b[36m0:00:00\u001b[0m\n",
            "\u001b[?25hRequirement already satisfied: requests>=2.9.1 in /usr/local/lib/python3.10/dist-packages (from tsfresh) (2.31.0)\n",
            "Requirement already satisfied: numpy>=1.15.1 in /usr/local/lib/python3.10/dist-packages (from tsfresh) (1.23.5)\n",
            "Requirement already satisfied: pandas>=0.25.0 in /usr/local/lib/python3.10/dist-packages (from tsfresh) (1.5.3)\n",
            "Requirement already satisfied: scipy>=1.2.0 in /usr/local/lib/python3.10/dist-packages (from tsfresh) (1.11.4)\n",
            "Requirement already satisfied: statsmodels>=0.13 in /usr/local/lib/python3.10/dist-packages (from tsfresh) (0.14.1)\n",
            "Requirement already satisfied: patsy>=0.4.1 in /usr/local/lib/python3.10/dist-packages (from tsfresh) (0.5.6)\n",
            "Requirement already satisfied: scikit-learn>=0.22.0 in /usr/local/lib/python3.10/dist-packages (from tsfresh) (1.2.2)\n",
            "Requirement already satisfied: tqdm>=4.10.0 in /usr/local/lib/python3.10/dist-packages (from tsfresh) (4.66.1)\n",
            "Requirement already satisfied: dask[dataframe]>=2.9.0 in /usr/local/lib/python3.10/dist-packages (from tsfresh) (2023.8.1)\n",
            "Requirement already satisfied: distributed>=2.11.0 in /usr/local/lib/python3.10/dist-packages (from tsfresh) (2023.8.1)\n",
            "Collecting stumpy>=1.7.2 (from tsfresh)\n",
            "  Downloading stumpy-1.12.0-py3-none-any.whl (169 kB)\n",
            "\u001b[2K     \u001b[90m━━━━━━━━━━━━━━━━━━━━━━━━━━━━━━━━━━━━━━━━\u001b[0m \u001b[32m169.1/169.1 kB\u001b[0m \u001b[31m7.4 MB/s\u001b[0m eta \u001b[36m0:00:00\u001b[0m\n",
            "\u001b[?25hRequirement already satisfied: cloudpickle in /usr/local/lib/python3.10/dist-packages (from tsfresh) (2.2.1)\n",
            "Requirement already satisfied: click>=8.0 in /usr/local/lib/python3.10/dist-packages (from dask[dataframe]>=2.9.0->tsfresh) (8.1.7)\n",
            "Requirement already satisfied: fsspec>=2021.09.0 in /usr/local/lib/python3.10/dist-packages (from dask[dataframe]>=2.9.0->tsfresh) (2023.6.0)\n",
            "Requirement already satisfied: packaging>=20.0 in /usr/local/lib/python3.10/dist-packages (from dask[dataframe]>=2.9.0->tsfresh) (23.2)\n",
            "Requirement already satisfied: partd>=1.2.0 in /usr/local/lib/python3.10/dist-packages (from dask[dataframe]>=2.9.0->tsfresh) (1.4.1)\n",
            "Requirement already satisfied: pyyaml>=5.3.1 in /usr/local/lib/python3.10/dist-packages (from dask[dataframe]>=2.9.0->tsfresh) (6.0.1)\n",
            "Requirement already satisfied: toolz>=0.10.0 in /usr/local/lib/python3.10/dist-packages (from dask[dataframe]>=2.9.0->tsfresh) (0.12.0)\n",
            "Requirement already satisfied: importlib-metadata>=4.13.0 in /usr/local/lib/python3.10/dist-packages (from dask[dataframe]>=2.9.0->tsfresh) (7.0.1)\n",
            "Requirement already satisfied: jinja2>=2.10.3 in /usr/local/lib/python3.10/dist-packages (from distributed>=2.11.0->tsfresh) (3.1.2)\n",
            "Requirement already satisfied: locket>=1.0.0 in /usr/local/lib/python3.10/dist-packages (from distributed>=2.11.0->tsfresh) (1.0.0)\n",
            "Requirement already satisfied: msgpack>=1.0.0 in /usr/local/lib/python3.10/dist-packages (from distributed>=2.11.0->tsfresh) (1.0.7)\n",
            "Requirement already satisfied: psutil>=5.7.2 in /usr/local/lib/python3.10/dist-packages (from distributed>=2.11.0->tsfresh) (5.9.5)\n",
            "Requirement already satisfied: sortedcontainers>=2.0.5 in /usr/local/lib/python3.10/dist-packages (from distributed>=2.11.0->tsfresh) (2.4.0)\n",
            "Requirement already satisfied: tblib>=1.6.0 in /usr/local/lib/python3.10/dist-packages (from distributed>=2.11.0->tsfresh) (3.0.0)\n",
            "Requirement already satisfied: tornado>=6.0.4 in /usr/local/lib/python3.10/dist-packages (from distributed>=2.11.0->tsfresh) (6.3.2)\n",
            "Requirement already satisfied: urllib3>=1.24.3 in /usr/local/lib/python3.10/dist-packages (from distributed>=2.11.0->tsfresh) (2.0.7)\n",
            "Requirement already satisfied: zict>=2.2.0 in /usr/local/lib/python3.10/dist-packages (from distributed>=2.11.0->tsfresh) (3.0.0)\n",
            "Requirement already satisfied: python-dateutil>=2.8.1 in /usr/local/lib/python3.10/dist-packages (from pandas>=0.25.0->tsfresh) (2.8.2)\n",
            "Requirement already satisfied: pytz>=2020.1 in /usr/local/lib/python3.10/dist-packages (from pandas>=0.25.0->tsfresh) (2023.3.post1)\n",
            "Requirement already satisfied: six in /usr/local/lib/python3.10/dist-packages (from patsy>=0.4.1->tsfresh) (1.16.0)\n",
            "Requirement already satisfied: charset-normalizer<4,>=2 in /usr/local/lib/python3.10/dist-packages (from requests>=2.9.1->tsfresh) (3.3.2)\n",
            "Requirement already satisfied: idna<4,>=2.5 in /usr/local/lib/python3.10/dist-packages (from requests>=2.9.1->tsfresh) (3.6)\n",
            "Requirement already satisfied: certifi>=2017.4.17 in /usr/local/lib/python3.10/dist-packages (from requests>=2.9.1->tsfresh) (2023.11.17)\n",
            "Requirement already satisfied: joblib>=1.1.1 in /usr/local/lib/python3.10/dist-packages (from scikit-learn>=0.22.0->tsfresh) (1.3.2)\n",
            "Requirement already satisfied: threadpoolctl>=2.0.0 in /usr/local/lib/python3.10/dist-packages (from scikit-learn>=0.22.0->tsfresh) (3.2.0)\n",
            "Requirement already satisfied: numba>=0.55.2 in /usr/local/lib/python3.10/dist-packages (from stumpy>=1.7.2->tsfresh) (0.58.1)\n",
            "Requirement already satisfied: zipp>=0.5 in /usr/local/lib/python3.10/dist-packages (from importlib-metadata>=4.13.0->dask[dataframe]>=2.9.0->tsfresh) (3.17.0)\n",
            "Requirement already satisfied: MarkupSafe>=2.0 in /usr/local/lib/python3.10/dist-packages (from jinja2>=2.10.3->distributed>=2.11.0->tsfresh) (2.1.3)\n",
            "Requirement already satisfied: llvmlite<0.42,>=0.41.0dev0 in /usr/local/lib/python3.10/dist-packages (from numba>=0.55.2->stumpy>=1.7.2->tsfresh) (0.41.1)\n",
            "Installing collected packages: stumpy, tsfresh\n",
            "Successfully installed stumpy-1.12.0 tsfresh-0.20.1\n"
          ]
        }
      ]
    },
    {
      "cell_type": "code",
      "source": [
        "from tsfresh import defaults\n",
        "from tsfresh.feature_extraction import feature_calculators\n",
        "from tsfresh.feature_extraction.settings import ComprehensiveFCParameters\n",
        "from tsfresh.utilities import dataframe_functions, profiling\n",
        "from tsfresh.utilities.distribution import MapDistributor, MultiprocessingDistributor, DistributorBaseClass\n",
        "from tsfresh.utilities.string_manipulation import convert_to_output_format"
      ],
      "metadata": {
        "id": "a91dL_yiraIn"
      },
      "execution_count": null,
      "outputs": []
    },
    {
      "cell_type": "code",
      "source": [
        "from __future__ import absolute_import, division\n",
        "from builtins import range\n",
        "import itertools\n",
        "from numpy.linalg import LinAlgError\n",
        "\n",
        "from scipy.signal import welch, cwt, ricker, find_peaks_cwt\n",
        "from statsmodels.tsa.ar_model import AR\n",
        "from statsmodels.tsa.stattools import adfuller\n",
        "from statsmodels.tsa.stattools import acf, pacf\n",
        "from scipy.stats import linregress"
      ],
      "metadata": {
        "id": "FpEv-At_reoG"
      },
      "execution_count": null,
      "outputs": []
    },
    {
      "cell_type": "code",
      "source": [
        "def autocorrelation_mean(x):\n",
        "    var = np.var(x)\n",
        "    n = len(x)\n",
        "    if abs(var) < 10**-10:\n",
        "        a = 0\n",
        "    else:\n",
        "        a = acf(x, adjusted=True, fft=n > 1250)[1:]\n",
        "    return np.mean(a)"
      ],
      "metadata": {
        "id": "K-GeS6ZWrgKh"
      },
      "execution_count": null,
      "outputs": []
    },
    {
      "cell_type": "code",
      "source": [
        "def autocorrelation_median(x):\n",
        "    var = np.var(x)\n",
        "    n = len(x)\n",
        "    if abs(var) < 10**-10:\n",
        "        a = 0\n",
        "    else:\n",
        "        a = acf(x, adjusted=True, fft=n > 1250)[1:]\n",
        "    return np.median(a)"
      ],
      "metadata": {
        "id": "kXXMZFN7ri_4"
      },
      "execution_count": null,
      "outputs": []
    },
    {
      "cell_type": "code",
      "source": [
        "def autocorrelation_variance(x):\n",
        "    var = np.var(x)\n",
        "    n = len(x)\n",
        "    if abs(var) < 10**-10:\n",
        "        a = 0\n",
        "    else:\n",
        "        a = acf(x, adjusted=True, fft=n > 1250)[1:]\n",
        "    return np.var(a)"
      ],
      "metadata": {
        "id": "kLvBi13BrlBi"
      },
      "execution_count": null,
      "outputs": []
    },
    {
      "cell_type": "code",
      "source": [
        "def autocorrelation(x, lag):\n",
        "    if type(x) is pd.Series:\n",
        "        x = x.values\n",
        "    if len(x) < lag:\n",
        "        return np.nan\n",
        "    # Slice the relevant subseries based on the lag\n",
        "    y1 = x[:(len(x)-lag)]\n",
        "    y2 = x[lag:]\n",
        "    # Subtract the mean of the whole series x\n",
        "    x_mean = np.mean(x)\n",
        "    # The result is sometimes referred to as \"covariation\"\n",
        "    sum_product = np.sum((y1-x_mean)*(y2-x_mean))\n",
        "    # Return the normalized unbiased covariance\n",
        "    return sum_product / ((len(x) - lag) * np.var(x))"
      ],
      "metadata": {
        "id": "dvA0vBJ2rnGn"
      },
      "execution_count": null,
      "outputs": []
    },
    {
      "cell_type": "code",
      "source": [
        "!pip install nolds"
      ],
      "metadata": {
        "colab": {
          "base_uri": "https://localhost:8080/"
        },
        "id": "cXccdi9nrp13",
        "outputId": "38303e45-5b3a-4029-8c54-713bc7e7b743"
      },
      "execution_count": null,
      "outputs": [
        {
          "output_type": "stream",
          "name": "stdout",
          "text": [
            "Collecting nolds\n",
            "  Downloading nolds-0.5.2-py2.py3-none-any.whl (39 kB)\n",
            "Requirement already satisfied: numpy in /usr/local/lib/python3.10/dist-packages (from nolds) (1.23.5)\n",
            "Requirement already satisfied: future in /usr/local/lib/python3.10/dist-packages (from nolds) (0.18.3)\n",
            "Requirement already satisfied: setuptools in /usr/local/lib/python3.10/dist-packages (from nolds) (67.7.2)\n",
            "Installing collected packages: nolds\n",
            "Successfully installed nolds-0.5.2\n"
          ]
        }
      ]
    },
    {
      "cell_type": "code",
      "source": [
        "'''import pandas as pd\n",
        "import numpy as np\n",
        "from scipy.stats import skew, kurtosis\n",
        "from statsmodels.tsa.stattools import pacf\n",
        "import nolds\n",
        "\n",
        "# Define the number_peaks function\n",
        "def number_peaks(x, n):\n",
        "    x = np.asarray(x)\n",
        "    x_reduced = x[n:-n]\n",
        "\n",
        "    res = None\n",
        "    for i in range(1, n + 1):\n",
        "        result_first = (x_reduced > np.roll(x, i)[n:-n])\n",
        "\n",
        "        if res is None:\n",
        "            res = result_first\n",
        "        else:\n",
        "            res &= result_first\n",
        "\n",
        "        res &= (x_reduced > np.roll(x, -i)[n:-n])\n",
        "    return sum(res)\n",
        "\n",
        "def autocorrelation(x, lag):\n",
        "    if type(x) is pd.Series:\n",
        "        x = x.values\n",
        "    if len(x) < lag:\n",
        "        return np.nan\n",
        "    # Slice the relevant subseries based on the lag\n",
        "    y1 = x[:(len(x)-lag)]\n",
        "    y2 = x[lag:]\n",
        "    # Subtract the mean of the whole series x\n",
        "    x_mean = np.mean(x)\n",
        "    # The result is sometimes referred to as \"covariation\"\n",
        "    sum_product = np.sum((y1-x_mean)*(y2-x_mean))\n",
        "    # Return the normalized unbiased covariance\n",
        "    return sum_product / ((len(x) - lag) * np.var(x))\n",
        "\n",
        "def partial_autocorrelation(x, max_demanded_lag):\n",
        "    n = len(x)\n",
        "    if n <= 1:\n",
        "        pacf_coeffs = [np.nan] * (max_demanded_lag + 1)\n",
        "    else:\n",
        "        if n <= max_demanded_lag:\n",
        "            max_lag = n - 1\n",
        "        else:\n",
        "            max_lag = max_demanded_lag\n",
        "        pacf_coeffs = list(pacf(x, method=\"ld\", nlags=max_lag))\n",
        "        pacf_coeffs = pacf_coeffs + [np.nan] * max(0, (max_demanded_lag - max_lag))\n",
        "    return [(\"lag_{}\".format(lag), pacf_coeffs[lag]) for lag in range(10)]\n",
        "\n",
        "def get_semantic_features(X):\n",
        "    mean_results = []\n",
        "    median_results = []\n",
        "    variance_results = []\n",
        "    mins = []\n",
        "    argmins = []\n",
        "    maxs = []\n",
        "    argmaxs = []\n",
        "    means = []\n",
        "    medians = []\n",
        "    stddevs = []\n",
        "    approx_entropies = []\n",
        "    skews = []\n",
        "    kurts = []\n",
        "    #cid_ces = []\n",
        "    partial_autocorr = []\n",
        "    #number_of_peaks = []\n",
        "\n",
        "    for i in range(X.shape[0]):\n",
        "        x = X[i]\n",
        "        mean_corr = autocorrelation(x, lag=10)\n",
        "        median_corr = autocorrelation(x, lag=10)\n",
        "        variance_corr = autocorrelation(x, lag=10)\n",
        "\n",
        "        mean_results.append(mean_corr)\n",
        "        median_results.append(median_corr)\n",
        "        variance_results.append(variance_corr)\n",
        "\n",
        "        mins.append(np.min(x))\n",
        "        argmins.append(np.argmin(x))\n",
        "        maxs.append(np.max(x))\n",
        "        argmaxs.append(np.argmax(x))\n",
        "        means.append(np.mean(x))\n",
        "        medians.append(np.median(x))\n",
        "        stddevs.append(np.std(x))\n",
        "\n",
        "        if len(x) > 2:\n",
        "            approx_entropies.append(nolds.sampen(x, emb_dim=2, tolerance=0.2))\n",
        "        else:\n",
        "            approx_entropies.append(np.nan)\n",
        "\n",
        "        skews.append(skew(x))\n",
        "        kurts.append(kurtosis(x))\n",
        "       # cid_ces.append(cid_ce(x, 1))\n",
        "\n",
        "        # Calculate and append partial autocorrelation\n",
        "        partial_autocorr.append(partial_autocorrelation(x, max_demanded_lag=10))\n",
        "\n",
        "        # Calculate the number of peaks and append as a feature\n",
        "      #  num_peaks = number_peaks(x, n=5)  # You can set your desired value of 'n'\n",
        "       # number_of_peaks.append(num_peaks)\n",
        "\n",
        "    X_saved = pd.DataFrame({\n",
        "        'autocorrelation_mean': mean_results,\n",
        "        'autocorrelation_median': median_results,\n",
        "        'autocorrelation_variance': variance_results,\n",
        "        'mins': mins,\n",
        "        'argmins': argmins,\n",
        "        'maxs': maxs,\n",
        "        'argmaxs': argmaxs,\n",
        "        'means': means,\n",
        "        'medians': medians,\n",
        "        'stddevs': stddevs,\n",
        "        'approx_entropies': approx_entropies,\n",
        "        'skews': skews,\n",
        "        'kurts': kurts,\n",
        "       # 'cid_ce': cid_ces,\n",
        "        'partial_autocorrelation': partial_autocorr,\n",
        "       # 'number_of_peaks': number_of_peaks  # Add number of peaks as a feature\n",
        "    })\n",
        "\n",
        "    return X_saved.values"
      ],
      "metadata": {
        "id": "u34OykelrvUl"
      },
      "execution_count": null,
      "outputs": []
    },
    {
      "cell_type": "code",
      "source": [
        "from antropy import app_entropy, sample_entropy\n",
        "from statsmodels.tsa.stattools import acf, pacf\n",
        "import pandas as pd\n",
        "import numpy as np\n",
        "from scipy.stats import skew, kurtosis\n",
        "\n",
        "def autocorrelation(x, lag=10):\n",
        "    \"\"\"\n",
        "    Calculate autocorrelation for a given time series.\n",
        "\n",
        "    Parameters:\n",
        "    - x: 1D numpy array, the time series\n",
        "    - lag: int, the lag for autocorrelation\n",
        "\n",
        "    Returns:\n",
        "    - float, autocorrelation value at the given lag\n",
        "    \"\"\"\n",
        "    acf_values = acf(x, nlags=lag, fft=True)\n",
        "    return acf_values[lag]\n",
        "\n",
        "def partial_autocorrelation(x, max_demanded_lag=10):\n",
        "    \"\"\"\n",
        "    Calculate partial autocorrelations for a given time series.\n",
        "\n",
        "    Parameters:\n",
        "    - x: 1D numpy array, the time series\n",
        "    - max_demanded_lag: int, the maximum lag for partial autocorrelation\n",
        "\n",
        "    Returns:\n",
        "    - numpy array, partial autocorrelation values up to the specified lag\n",
        "    \"\"\"\n",
        "    pacf_values = pacf(x, nlags=max_demanded_lag)\n",
        "    return pacf_values\n",
        "\n",
        "from sklearn.preprocessing import StandardScaler\n",
        "\n",
        "def get_semantic_features(X):\n",
        "    X = np.squeeze(X)\n",
        "    X_saved = pd.DataFrame()\n",
        "\n",
        "    X_saved['mins'] = np.min(X, axis=1)\n",
        "    X_saved['argmins'] = np.argmin(X, axis=1)\n",
        "    X_saved['maxs'] = np.max(X, axis=1)\n",
        "    X_saved['argmaxs'] = np.argmax(X, axis=1)\n",
        "    X_saved['means'] = np.mean(X, axis=1)\n",
        "    X_saved['medians'] = np.median(X, axis=1)\n",
        "    X_saved['stddevs'] = np.std(X, axis=1)\n",
        "\n",
        "    # Autocorrelation based on mean, median, and variance\n",
        "    X_saved['autocorr_mean'] = [autocorrelation(X[i] - np.mean(X[i])) for i in range(X.shape[0])]\n",
        "    X_saved['autocorr_median'] = [autocorrelation(X[i] - np.median(X[i])) for i in range(X.shape[0])]\n",
        "    X_saved['autocorr_variance'] = [autocorrelation(X[i] - np.var(X[i])) for i in range(X.shape[0])]\n",
        "\n",
        "    # Partial autocorrelation\n",
        "    max_demanded_lag = 10\n",
        "    pacf_values = [partial_autocorrelation(X[i], max_demanded_lag) for i in range(X.shape[0])]\n",
        "    for lag in range(1, max_demanded_lag + 1):\n",
        "        X_saved[f'pacf_{lag}'] = [value[lag-1] for value in pacf_values]\n",
        "\n",
        "    X_saved['approx_entropies'] = [app_entropy(X[i]) for i in range(X.shape[0])]\n",
        "    X_saved['skews'] = skew(X, axis=1)\n",
        "    X_saved['kurts'] = kurtosis(X, axis=1)\n",
        "\n",
        "    # Feature Scaling\n",
        "    scaler = StandardScaler()\n",
        "    X_scaled = scaler.fit_transform(X_saved)\n",
        "\n",
        "    return X_scaled\n"
      ],
      "metadata": {
        "id": "hZumbxsLCtiW"
      },
      "execution_count": null,
      "outputs": []
    },
    {
      "cell_type": "code",
      "execution_count": null,
      "metadata": {
        "id": "Q8XwyZFAG1Te"
      },
      "outputs": [],
      "source": [
        "X_train_semantic = get_semantic_features(X_train)\n",
        "X_val_seen_semantic = get_semantic_features(X_val_seen)\n",
        "X_val_unseen_semantic = get_semantic_features(X_val_unseen)\n",
        "X_test_seen_semantic = get_semantic_features(X_test_seen)\n",
        "X_test_unseen_semantic = get_semantic_features(X_test_unseen)"
      ]
    },
    {
      "cell_type": "code",
      "execution_count": null,
      "metadata": {
        "id": "fVO6TARTG6JX"
      },
      "outputs": [],
      "source": [
        "X_train_concat = np.hstack((X_train_embed, X_train_semantic))\n",
        "X_val_seen_concat = np.hstack((X_val_seen_embed, X_val_seen_semantic))\n",
        "X_val_unseen_concat = np.hstack((X_val_unseen_embed, X_val_unseen_semantic))\n",
        "X_test_seen_concat = np.hstack((X_test_seen_embed, X_test_seen_semantic))\n",
        "X_test_unseen_concat = np.hstack((X_test_unseen_embed, X_test_unseen_semantic))"
      ]
    },
    {
      "cell_type": "code",
      "execution_count": null,
      "metadata": {
        "id": "7eOzr7TjH4KP",
        "colab": {
          "base_uri": "https://localhost:8080/"
        },
        "outputId": "78d27b64-b294-41a1-d131-6de496142eea"
      },
      "outputs": [
        {
          "output_type": "execute_result",
          "data": {
            "text/plain": [
              "((25051, 279), (8350, 279), (840, 279), (8351, 279), (210, 279))"
            ]
          },
          "metadata": {},
          "execution_count": 199
        }
      ],
      "source": [
        "X_train_concat.shape, X_val_seen_concat.shape, X_val_unseen_concat.shape, \\\n",
        "X_test_seen_concat.shape, X_test_unseen_concat.shape"
      ]
    },
    {
      "cell_type": "code",
      "execution_count": null,
      "metadata": {
        "id": "yAmFBbaSH7-_"
      },
      "outputs": [],
      "source": [
        "X_train_concat = np.expand_dims(X_train_concat, axis=-1)\n",
        "X_val_seen_concat = np.expand_dims(X_val_seen_concat, axis=-1)\n",
        "X_val_unseen_concat = np.expand_dims(X_val_unseen_concat, axis=-1)"
      ]
    },
    {
      "cell_type": "code",
      "execution_count": null,
      "metadata": {
        "id": "MG1gH2x0ICHh",
        "colab": {
          "base_uri": "https://localhost:8080/"
        },
        "outputId": "e76b9694-ff36-4f8c-bc7c-82800ee7b703"
      },
      "outputs": [
        {
          "output_type": "execute_result",
          "data": {
            "text/plain": [
              "9190"
            ]
          },
          "metadata": {},
          "execution_count": 201
        }
      ],
      "source": [
        "tot_len = y_val_seen.shape[0]+y_val_unseen.shape[0]\n",
        "tot_len"
      ]
    },
    {
      "cell_type": "code",
      "execution_count": null,
      "metadata": {
        "id": "JcPfuFJGIH5I"
      },
      "outputs": [],
      "source": [
        "conv_model_X = np.concatenate((X_val_seen_concat, X_val_unseen_concat), axis = 0)\n",
        "conv_model_y = np.concatenate((y_val_seen, y_val_unseen), axis = 0)"
      ]
    },
    {
      "cell_type": "code",
      "execution_count": null,
      "metadata": {
        "id": "BvrqRH8RIXI7"
      },
      "outputs": [],
      "source": [
        "def harmonic(y_true, y_pred):\n",
        "    I = tf.constant([0.,0.,1.,0.,1.])\n",
        "    gamma = tf.constant([0.9])\n",
        "\n",
        "    I_val_seen = tf.broadcast_to(I, (X_val_seen.shape[0], I.shape[0]))\n",
        "    I_val_unseen = tf.broadcast_to(I, (X_val_unseen.shape[0], I.shape[0]))\n",
        "\n",
        "    gamma_vec_val_seen = tf.broadcast_to(gamma, (X_val_seen.shape[0], I.shape[0]))\n",
        "    gamma_vec_val_unseen = tf.broadcast_to(gamma, (X_val_unseen.shape[0], I.shape[0]))\n",
        "\n",
        "    y_probs_val_seen = conv_model.model(X_val_seen_concat)\n",
        "    y_probs_val_unseen = conv_model.model(X_val_unseen_concat)\n",
        "\n",
        "\n",
        "    y_probs_val_seen_final = y_probs_val_seen - gamma_vec_val_seen*I_val_seen\n",
        "    y_probs_val_unseen_final = y_probs_val_unseen - gamma_vec_val_unseen*I_val_unseen\n",
        "\n",
        "    y_probs_val_seen_final = y_probs_val_seen_final.numpy()\n",
        "    y_probs_val_unseen_final = y_probs_val_unseen_final.numpy()\n",
        "\n",
        "    y_probs_val_seen_final[:, 4] = -999\n",
        "    y_probs_val_unseen_final[:, 4] = -999\n",
        "\n",
        "    y_probs_val_seen_final = tf.convert_to_tensor(y_probs_val_seen_final)\n",
        "    y_probs_val_unseen_final = tf.convert_to_tensor(y_probs_val_unseen_final)\n",
        "\n",
        "    y_preds_val_seen = tf.argmax(y_probs_val_seen_final, axis=1)\n",
        "    y_preds_val_unseen = tf.argmax(y_probs_val_unseen_final, axis=1)\n",
        "\n",
        "\n",
        "    y_val_seen_tensor = tf.convert_to_tensor(y_val_seen)\n",
        "    y_val_unseen_tensor = tf.convert_to_tensor(y_val_unseen)\n",
        "\n",
        "    acc_seen = tf.reduce_sum(tf.cast(tf.equal(y_preds_val_seen, y_val_seen), tf.int16))/y_val_seen.shape[0]\n",
        "    acc_unseen = tf.reduce_sum(tf.cast(tf.equal(y_preds_val_unseen, y_val_unseen), tf.int16))/y_val_unseen.shape[0]\n",
        "\n",
        "    h = 2*acc_seen*acc_unseen/(acc_seen+acc_unseen+1e-12)\n",
        "\n",
        "    return h"
      ]
    },
    {
      "cell_type": "code",
      "execution_count": null,
      "metadata": {
        "id": "940f4ee7"
      },
      "outputs": [],
      "source": [
        "class ConvNet:\n",
        "\n",
        "    def __init__(self, input_shape, num_classes):\n",
        "        self.input_shape = input_shape\n",
        "        self.num_classes = num_classes\n",
        "\n",
        "        # Build model\n",
        "        self.model = self.build_CNN_model()\n",
        "\n",
        "\n",
        "\n",
        "    def build_CNN_model(self):\n",
        "\n",
        "        tf.keras.backend.clear_session()\n",
        "        input1 = tf.keras.layers.Input(shape=self.input_shape)\n",
        "\n",
        "        # Convolutional Block 1\n",
        "        conv1 = tf.keras.layers.Conv1D(filters=64,\n",
        "                                       kernel_size=10,\n",
        "                                       activation='relu',\n",
        "                                       kernel_initializer= 'he_uniform')(input1)\n",
        "        bn1 = tf.keras.layers.BatchNormalization()(conv1)\n",
        "        drop1 = tf.keras.layers.Dropout(0.133)(bn1)\n",
        "        pool1 = tf.keras.layers.MaxPooling1D(pool_size= 3)(drop1)\n",
        "        # Convolutional Block 2\n",
        "        conv2 = tf.keras.layers.Conv1D(filters=32,\n",
        "                                       kernel_size=7,\n",
        "                                       activation='relu',\n",
        "                                       kernel_initializer= 'he_uniform')(pool1)\n",
        "        bn2 = tf.keras.layers.BatchNormalization()(conv2)\n",
        "        drop2 = tf.keras.layers.Dropout(0.308)(bn2)\n",
        "        pool2 = tf.keras.layers.MaxPooling1D(pool_size=2)(drop2)\n",
        "        # Convolutional Block 3\n",
        "        conv3 = tf.keras.layers.Conv1D(filters=256,\n",
        "                                       kernel_size=5,\n",
        "                                       activation='relu',\n",
        "                                       kernel_initializer='he_uniform')(pool2)\n",
        "        bn3 = tf.keras.layers.BatchNormalization()(conv3)\n",
        "        drop3 = tf.keras.layers.Dropout(0.026)(bn3)\n",
        "        pool3 = tf.keras.layers.MaxPooling1D(pool_size=2)(drop3)\n",
        "\n",
        "        #Convolutional Block 4\n",
        "        conv4 = tf.keras.layers.Conv1D(filters=256,\n",
        "                                       kernel_size=5,\n",
        "                                       activation='relu',\n",
        "                                       kernel_initializer='he_uniform')(pool3)\n",
        "        bn4 = tf.keras.layers.BatchNormalization()(conv4)\n",
        "        drop4 = tf.keras.layers.Dropout(0.266)(bn4)\n",
        "        pool4 = tf.keras.layers.MaxPooling1D(pool_size=2)(drop4)\n",
        "\n",
        "\n",
        "        flat = tf.keras.layers.Flatten()(pool4)\n",
        "        dense1 = tf.keras.layers.Dense(128,\n",
        "                                       activation='relu',\n",
        "                                       kernel_initializer='he_uniform')(flat)\n",
        "        dense2 = tf.keras.layers.Dense(64,\n",
        "                                       activation='relu',\n",
        "                                       kernel_initializer='he_uniform')(dense1)\n",
        "        # Output layer\n",
        "        logits = tf.keras.layers.Dense(self.num_classes)(dense2)\n",
        "        temp_calibration = tf.keras.layers.Lambda(lambda x: x/3.74)(logits)\n",
        "        output1 = tf.keras.layers.Activation('softmax')(logits)\n",
        "\n",
        "        model = tf.keras.Model(inputs=input1, outputs=output1, name = \"CNN_Module\")\n",
        "\n",
        "\n",
        "        model.compile(loss='sparse_categorical_crossentropy', optimizer=tf.keras.optimizers.Adam(0.001),\n",
        "                      metrics=[harmonic], run_eagerly=True)\n",
        "\n",
        "\n",
        "\n",
        "        return model\n",
        "\n",
        "    def fit(self, batch_size, epochs, x_train, y_train, x_val, y_val):\n",
        "\n",
        "      es_callback_cnn = tf.keras.callbacks.EarlyStopping(monitor = 'val_loss', patience=15, mode='min')\n",
        "      mc_callback_cnn = tf.keras.callbacks.ModelCheckpoint('letsgzsl_ECG_weights.h5', monitor = 'val_loss',save_best_only=True, mode='min')\n",
        "\n",
        "      # es_callback_cnn = tf.keras.callbacks.EarlyStopping(monitor = 'val_harmonic', patience=15, mode='max')\n",
        "      # mc_callback_cnn = tf.keras.callbacks.ModelCheckpoint('letsgzsl_ECG_weights.h5', monitor = 'val_harmonic',save_best_only=True, mode='max')\n",
        "\n",
        "      hist = self.model.fit(\n",
        "          x_train,\n",
        "          y_train,\n",
        "          batch_size = batch_size,\n",
        "          epochs = epochs,\n",
        "          validation_data = (x_val, y_val),\n",
        "          callbacks = [es_callback_cnn, mc_callback_cnn]\n",
        "      )\n",
        "      return hist\n",
        "\n",
        "\n",
        "    def eval_metrics(self):\n",
        "        self.model.load_weights('letsgzsl_ECG_weights.h5')\n",
        "        I = np.array([0.,0.,1.,0.,1.])\n",
        "        self.gamma_values = np.concatenate((np.arange(1e-1, 1, 2e-2), np.arange(0.99, 1.001, 1e-3) ))\n",
        "\n",
        "        I_val_seen = np.broadcast_to(I, (X_val_seen_concat.shape[0], I.shape[0]))\n",
        "        I_val_unseen = np.broadcast_to(I, (X_val_unseen_concat.shape[0], I.shape[0]))\n",
        "\n",
        "        self.seen_accs = []\n",
        "        self.unseen_accs = []\n",
        "        self.hs = []\n",
        "\n",
        "        for gamma in self.gamma_values:\n",
        "\n",
        "            y_probs_val_seen = self.model.predict(X_val_seen_concat)\n",
        "            y_probs_val_unseen = self.model.predict(X_val_unseen_concat)\n",
        "\n",
        "            y_probs_val_seen_final = y_probs_val_seen - gamma*I_val_seen\n",
        "            y_probs_val_unseen_final = y_probs_val_unseen - gamma*I_val_unseen\n",
        "\n",
        "            y_probs_val_seen_final[:, 4] = -999\n",
        "            y_probs_val_unseen_final[:, 4] = -999\n",
        "\n",
        "            y_preds_val_seen = np.argmax(y_probs_val_seen_final, axis=1)\n",
        "            y_preds_val_unseen = np.argmax(y_probs_val_unseen_final, axis=1)\n",
        "\n",
        "            acc_seen = accuracy_score(y_val_seen, y_preds_val_seen)\n",
        "            acc_unseen = accuracy_score(y_val_unseen, y_preds_val_unseen)\n",
        "            h = 2*acc_seen*acc_unseen/(acc_seen+acc_unseen+1e-12)\n",
        "\n",
        "            self.seen_accs.append(acc_seen)\n",
        "            self.unseen_accs.append(acc_unseen)\n",
        "            self.hs.append(h)\n",
        "\n",
        "        self.seen_accs = np.array(self.seen_accs)\n",
        "        self.unseen_accs = np.array(self.unseen_accs)\n",
        "        self.hs = np.array(self.hs)\n",
        "\n",
        "        self.best_h_idx = np.argmax(self.hs)\n",
        "        self.busc = self.unseen_accs[self.best_h_idx]\n",
        "        self.bsc = self.seen_accs[self.best_h_idx]\n",
        "        self.best_gamma = self.gamma_values[self.best_h_idx]\n",
        "        self.harmonic_val = self.hs[self.best_h_idx]\n",
        "\n",
        "\n",
        "        idx = np.argsort(self.seen_accs)\n",
        "        self.seen_accs = self.seen_accs[idx]\n",
        "        self.unseen_accs = self.unseen_accs[idx]\n",
        "        self.hs = self.hs[idx]\n",
        "\n",
        "\n",
        "\n",
        "        self.ausuc_val = auc(self.seen_accs, self.unseen_accs)\n"
      ]
    },
    {
      "cell_type": "code",
      "execution_count": null,
      "metadata": {
        "id": "SfYh4fhcI8cm"
      },
      "outputs": [],
      "source": [
        "models = []\n",
        "for i in range(3):\n",
        "  conv_model = ConvNet(input_shape = X_train_concat.shape[1:], num_classes=y_count)\n",
        "  models.append(conv_model)"
      ]
    },
    {
      "cell_type": "code",
      "execution_count": null,
      "metadata": {
        "id": "u_3uw3YFI9SR",
        "colab": {
          "base_uri": "https://localhost:8080/"
        },
        "outputId": "5a4165f2-c647-4517-c362-8f262f0f7dee"
      },
      "outputs": [
        {
          "output_type": "stream",
          "name": "stdout",
          "text": [
            "Model: \"CNN_Module\"\n",
            "_________________________________________________________________\n",
            " Layer (type)                Output Shape              Param #   \n",
            "=================================================================\n",
            " input_1 (InputLayer)        [(None, 279, 1)]          0         \n",
            "                                                                 \n",
            " conv1d (Conv1D)             (None, 270, 64)           704       \n",
            "                                                                 \n",
            " batch_normalization (Batch  (None, 270, 64)           256       \n",
            " Normalization)                                                  \n",
            "                                                                 \n",
            " dropout (Dropout)           (None, 270, 64)           0         \n",
            "                                                                 \n",
            " max_pooling1d (MaxPooling1  (None, 90, 64)            0         \n",
            " D)                                                              \n",
            "                                                                 \n",
            " conv1d_1 (Conv1D)           (None, 84, 32)            14368     \n",
            "                                                                 \n",
            " batch_normalization_1 (Bat  (None, 84, 32)            128       \n",
            " chNormalization)                                                \n",
            "                                                                 \n",
            " dropout_1 (Dropout)         (None, 84, 32)            0         \n",
            "                                                                 \n",
            " max_pooling1d_1 (MaxPoolin  (None, 42, 32)            0         \n",
            " g1D)                                                            \n",
            "                                                                 \n",
            " conv1d_2 (Conv1D)           (None, 38, 256)           41216     \n",
            "                                                                 \n",
            " batch_normalization_2 (Bat  (None, 38, 256)           1024      \n",
            " chNormalization)                                                \n",
            "                                                                 \n",
            " dropout_2 (Dropout)         (None, 38, 256)           0         \n",
            "                                                                 \n",
            " max_pooling1d_2 (MaxPoolin  (None, 19, 256)           0         \n",
            " g1D)                                                            \n",
            "                                                                 \n",
            " conv1d_3 (Conv1D)           (None, 15, 256)           327936    \n",
            "                                                                 \n",
            " batch_normalization_3 (Bat  (None, 15, 256)           1024      \n",
            " chNormalization)                                                \n",
            "                                                                 \n",
            " dropout_3 (Dropout)         (None, 15, 256)           0         \n",
            "                                                                 \n",
            " max_pooling1d_3 (MaxPoolin  (None, 7, 256)            0         \n",
            " g1D)                                                            \n",
            "                                                                 \n",
            " flatten (Flatten)           (None, 1792)              0         \n",
            "                                                                 \n",
            " dense (Dense)               (None, 128)               229504    \n",
            "                                                                 \n",
            " dense_1 (Dense)             (None, 64)                8256      \n",
            "                                                                 \n",
            " dense_2 (Dense)             (None, 5)                 325       \n",
            "                                                                 \n",
            " activation (Activation)     (None, 5)                 0         \n",
            "                                                                 \n",
            "=================================================================\n",
            "Total params: 624741 (2.38 MB)\n",
            "Trainable params: 623525 (2.38 MB)\n",
            "Non-trainable params: 1216 (4.75 KB)\n",
            "_________________________________________________________________\n"
          ]
        }
      ],
      "source": [
        "conv_model.model.summary()"
      ]
    },
    {
      "cell_type": "code",
      "source": [
        "#!export TF_FORCE_GPU_ALLOW_GROWTH=true"
      ],
      "metadata": {
        "id": "Lk1ZSfJbFJxc"
      },
      "execution_count": null,
      "outputs": []
    },
    {
      "cell_type": "code",
      "execution_count": null,
      "metadata": {
        "id": "G6_t6X-AJBpp",
        "colab": {
          "base_uri": "https://localhost:8080/",
          "height": 1000,
          "referenced_widgets": [
            "dc6cbbf2cca04a7cbdc882550e7977df",
            "4a52178393384e93b273b98fc6ed026c",
            "b6b8562fddfe4fc0a9dd88f8d3fa70aa",
            "f68bb9a2bacc4b0d844ae95732a50c6f",
            "1faeec2cb80a47cebeca7bf129fc507c",
            "bb078339975745bd8114f9a56206b579",
            "5780ac3acbf2433ba726e767187cf9f7",
            "3121a758a9ff47dc81a38f21276ca299",
            "514f0ac2b1684cd7bd4a6ace2230b255",
            "a8d2417779d34a38b382f010f9d18510",
            "296d17711177443f922a7f6613979902"
          ]
        },
        "outputId": "34f60dd5-aa8c-46e7-963c-db7c4f6b61b1"
      },
      "outputs": [
        {
          "output_type": "display_data",
          "data": {
            "text/plain": [
              "  0%|          | 0/3 [00:00<?, ?it/s]"
            ],
            "application/vnd.jupyter.widget-view+json": {
              "version_major": 2,
              "version_minor": 0,
              "model_id": "dc6cbbf2cca04a7cbdc882550e7977df"
            }
          },
          "metadata": {}
        },
        {
          "output_type": "stream",
          "name": "stdout",
          "text": [
            "Epoch 1/5\n",
            "196/196 [==============================] - 54s 263ms/step - loss: 0.1770 - harmonic: 0.0000e+00 - val_loss: 1.4411 - val_harmonic: 0.0000e+00\n",
            "Epoch 2/5\n"
          ]
        },
        {
          "output_type": "stream",
          "name": "stderr",
          "text": [
            "/usr/local/lib/python3.10/dist-packages/keras/src/engine/training.py:3103: UserWarning: You are saving your model as an HDF5 file via `model.save()`. This file format is considered legacy. We recommend using instead the native Keras format, e.g. `model.save('my_model.keras')`.\n",
            "  saving_api.save_model(\n"
          ]
        },
        {
          "output_type": "stream",
          "name": "stdout",
          "text": [
            "196/196 [==============================] - 53s 270ms/step - loss: 0.0760 - harmonic: 0.0000e+00 - val_loss: 1.3316 - val_harmonic: 0.0000e+00\n",
            "Epoch 3/5\n",
            "196/196 [==============================] - 52s 266ms/step - loss: 0.0558 - harmonic: 0.0000e+00 - val_loss: 1.4309 - val_harmonic: 0.0000e+00\n",
            "Epoch 4/5\n",
            "196/196 [==============================] - 52s 267ms/step - loss: 0.0476 - harmonic: 0.0000e+00 - val_loss: 1.5450 - val_harmonic: 0.0000e+00\n",
            "Epoch 5/5\n",
            "196/196 [==============================] - 53s 269ms/step - loss: 0.0397 - harmonic: 0.0000e+00 - val_loss: 1.3203 - val_harmonic: 0.0000e+00\n",
            "261/261 [==============================] - 4s 15ms/step\n",
            "27/27 [==============================] - 0s 15ms/step\n",
            "261/261 [==============================] - 4s 16ms/step\n",
            "27/27 [==============================] - 0s 16ms/step\n",
            "261/261 [==============================] - 4s 15ms/step\n",
            "27/27 [==============================] - 0s 16ms/step\n",
            "261/261 [==============================] - 4s 16ms/step\n",
            "27/27 [==============================] - 0s 15ms/step\n",
            "261/261 [==============================] - 4s 16ms/step\n",
            "27/27 [==============================] - 0s 16ms/step\n",
            "261/261 [==============================] - 4s 15ms/step\n",
            "27/27 [==============================] - 0s 15ms/step\n",
            "261/261 [==============================] - 4s 15ms/step\n",
            "27/27 [==============================] - 0s 16ms/step\n",
            "261/261 [==============================] - 4s 16ms/step\n",
            "27/27 [==============================] - 0s 16ms/step\n",
            "261/261 [==============================] - 4s 15ms/step\n",
            "27/27 [==============================] - 0s 15ms/step\n",
            "261/261 [==============================] - 4s 16ms/step\n",
            "27/27 [==============================] - 0s 15ms/step\n",
            "261/261 [==============================] - 4s 16ms/step\n",
            "27/27 [==============================] - 0s 16ms/step\n",
            "261/261 [==============================] - 4s 16ms/step\n",
            "27/27 [==============================] - 0s 15ms/step\n",
            "261/261 [==============================] - 4s 16ms/step\n",
            "27/27 [==============================] - 0s 16ms/step\n",
            "261/261 [==============================] - 4s 15ms/step\n",
            "27/27 [==============================] - 0s 15ms/step\n",
            "261/261 [==============================] - 4s 15ms/step\n",
            "27/27 [==============================] - 0s 16ms/step\n",
            "261/261 [==============================] - 4s 16ms/step\n",
            "27/27 [==============================] - 0s 16ms/step\n",
            "261/261 [==============================] - 4s 16ms/step\n",
            "27/27 [==============================] - 0s 15ms/step\n",
            "261/261 [==============================] - 4s 16ms/step\n",
            "27/27 [==============================] - 0s 16ms/step\n",
            "261/261 [==============================] - 4s 16ms/step\n",
            "27/27 [==============================] - 0s 16ms/step\n",
            "261/261 [==============================] - 4s 16ms/step\n",
            "27/27 [==============================] - 0s 15ms/step\n",
            "261/261 [==============================] - 4s 16ms/step\n",
            "27/27 [==============================] - 0s 16ms/step\n",
            "261/261 [==============================] - 4s 16ms/step\n",
            "27/27 [==============================] - 0s 16ms/step\n",
            "261/261 [==============================] - 4s 16ms/step\n",
            "27/27 [==============================] - 0s 17ms/step\n",
            "261/261 [==============================] - 4s 16ms/step\n",
            "27/27 [==============================] - 0s 16ms/step\n",
            "261/261 [==============================] - 4s 15ms/step\n",
            "27/27 [==============================] - 0s 15ms/step\n",
            "261/261 [==============================] - 4s 16ms/step\n",
            "27/27 [==============================] - 0s 16ms/step\n",
            "261/261 [==============================] - 4s 16ms/step\n",
            "27/27 [==============================] - 0s 16ms/step\n",
            "261/261 [==============================] - 4s 15ms/step\n",
            "27/27 [==============================] - 0s 15ms/step\n",
            "261/261 [==============================] - 4s 16ms/step\n",
            "27/27 [==============================] - 0s 16ms/step\n",
            "261/261 [==============================] - 4s 16ms/step\n",
            "27/27 [==============================] - 0s 15ms/step\n",
            "261/261 [==============================] - 4s 15ms/step\n",
            "27/27 [==============================] - 0s 15ms/step\n",
            "261/261 [==============================] - 4s 16ms/step\n",
            "27/27 [==============================] - 0s 15ms/step\n",
            "261/261 [==============================] - 4s 16ms/step\n",
            "27/27 [==============================] - 0s 15ms/step\n",
            "261/261 [==============================] - 4s 15ms/step\n",
            "27/27 [==============================] - 0s 15ms/step\n",
            "261/261 [==============================] - 4s 16ms/step\n",
            "27/27 [==============================] - 0s 15ms/step\n",
            "261/261 [==============================] - 4s 15ms/step\n",
            "27/27 [==============================] - 0s 15ms/step\n",
            "261/261 [==============================] - 4s 16ms/step\n",
            "27/27 [==============================] - 0s 16ms/step\n",
            "261/261 [==============================] - 4s 16ms/step\n",
            "27/27 [==============================] - 0s 15ms/step\n",
            "261/261 [==============================] - 4s 15ms/step\n",
            "27/27 [==============================] - 0s 15ms/step\n",
            "261/261 [==============================] - 4s 16ms/step\n",
            "27/27 [==============================] - 0s 16ms/step\n",
            "261/261 [==============================] - 4s 15ms/step\n",
            "27/27 [==============================] - 0s 15ms/step\n",
            "261/261 [==============================] - 4s 15ms/step\n",
            "27/27 [==============================] - 0s 15ms/step\n",
            "261/261 [==============================] - 4s 16ms/step\n",
            "27/27 [==============================] - 0s 16ms/step\n",
            "261/261 [==============================] - 4s 16ms/step\n",
            "27/27 [==============================] - 0s 16ms/step\n",
            "261/261 [==============================] - 4s 16ms/step\n",
            "27/27 [==============================] - 0s 17ms/step\n",
            "261/261 [==============================] - 4s 16ms/step\n",
            "27/27 [==============================] - 0s 15ms/step\n",
            "261/261 [==============================] - 4s 15ms/step\n",
            "27/27 [==============================] - 0s 15ms/step\n",
            "261/261 [==============================] - 4s 16ms/step\n",
            "27/27 [==============================] - 0s 17ms/step\n",
            "261/261 [==============================] - 4s 16ms/step\n",
            "27/27 [==============================] - 0s 15ms/step\n",
            "261/261 [==============================] - 4s 15ms/step\n",
            "27/27 [==============================] - 0s 15ms/step\n",
            "261/261 [==============================] - 4s 16ms/step\n",
            "27/27 [==============================] - 0s 16ms/step\n",
            "261/261 [==============================] - 4s 15ms/step\n",
            "27/27 [==============================] - 0s 15ms/step\n",
            "261/261 [==============================] - 4s 15ms/step\n",
            "27/27 [==============================] - 0s 16ms/step\n",
            "261/261 [==============================] - 4s 16ms/step\n",
            "27/27 [==============================] - 0s 16ms/step\n",
            "261/261 [==============================] - 4s 15ms/step\n",
            "27/27 [==============================] - 0s 15ms/step\n",
            "261/261 [==============================] - 4s 16ms/step\n",
            "27/27 [==============================] - 0s 16ms/step\n",
            "Epoch 1/5\n",
            "196/196 [==============================] - 55s 268ms/step - loss: 0.1687 - harmonic: 0.0000e+00 - val_loss: 1.1683 - val_harmonic: 0.0000e+00\n",
            "Epoch 2/5\n"
          ]
        },
        {
          "output_type": "stream",
          "name": "stderr",
          "text": [
            "/usr/local/lib/python3.10/dist-packages/keras/src/engine/training.py:3103: UserWarning: You are saving your model as an HDF5 file via `model.save()`. This file format is considered legacy. We recommend using instead the native Keras format, e.g. `model.save('my_model.keras')`.\n",
            "  saving_api.save_model(\n"
          ]
        },
        {
          "output_type": "stream",
          "name": "stdout",
          "text": [
            "196/196 [==============================] - 53s 270ms/step - loss: 0.0727 - harmonic: 7.2779e-05 - val_loss: 1.1074 - val_harmonic: 0.0000e+00\n",
            "Epoch 3/5\n",
            "196/196 [==============================] - 52s 267ms/step - loss: 0.0553 - harmonic: 0.0000e+00 - val_loss: 1.2399 - val_harmonic: 0.0000e+00\n",
            "Epoch 4/5\n",
            "196/196 [==============================] - 52s 268ms/step - loss: 0.0433 - harmonic: 0.0000e+00 - val_loss: 1.3402 - val_harmonic: 0.0000e+00\n",
            "Epoch 5/5\n",
            "196/196 [==============================] - 53s 270ms/step - loss: 0.0376 - harmonic: 0.0000e+00 - val_loss: 1.3026 - val_harmonic: 0.0000e+00\n",
            "261/261 [==============================] - 4s 16ms/step\n",
            "27/27 [==============================] - 0s 17ms/step\n",
            "261/261 [==============================] - 4s 15ms/step\n",
            "27/27 [==============================] - 0s 15ms/step\n",
            "261/261 [==============================] - 4s 15ms/step\n",
            "27/27 [==============================] - 0s 16ms/step\n",
            "261/261 [==============================] - 4s 16ms/step\n",
            "27/27 [==============================] - 0s 15ms/step\n",
            "261/261 [==============================] - 4s 15ms/step\n",
            "27/27 [==============================] - 0s 15ms/step\n",
            "261/261 [==============================] - 4s 16ms/step\n",
            "27/27 [==============================] - 0s 16ms/step\n",
            "261/261 [==============================] - 4s 16ms/step\n",
            "27/27 [==============================] - 0s 16ms/step\n",
            "261/261 [==============================] - 4s 16ms/step\n",
            "27/27 [==============================] - 0s 16ms/step\n",
            "261/261 [==============================] - 4s 16ms/step\n",
            "27/27 [==============================] - 0s 15ms/step\n",
            "261/261 [==============================] - 4s 15ms/step\n",
            "27/27 [==============================] - 0s 15ms/step\n",
            "261/261 [==============================] - 4s 15ms/step\n",
            "27/27 [==============================] - 0s 17ms/step\n",
            "261/261 [==============================] - 4s 16ms/step\n",
            "27/27 [==============================] - 0s 15ms/step\n",
            "261/261 [==============================] - 4s 15ms/step\n",
            "27/27 [==============================] - 0s 15ms/step\n",
            "261/261 [==============================] - 4s 16ms/step\n",
            "27/27 [==============================] - 0s 16ms/step\n",
            "261/261 [==============================] - 4s 15ms/step\n",
            "27/27 [==============================] - 0s 16ms/step\n",
            "261/261 [==============================] - 4s 15ms/step\n",
            "27/27 [==============================] - 0s 16ms/step\n",
            "261/261 [==============================] - 4s 16ms/step\n",
            "27/27 [==============================] - 0s 15ms/step\n",
            "261/261 [==============================] - 4s 15ms/step\n",
            "27/27 [==============================] - 0s 15ms/step\n",
            "261/261 [==============================] - 4s 16ms/step\n",
            "27/27 [==============================] - 0s 16ms/step\n",
            "261/261 [==============================] - 4s 16ms/step\n",
            "27/27 [==============================] - 0s 15ms/step\n",
            "261/261 [==============================] - 5s 18ms/step\n",
            "27/27 [==============================] - 0s 16ms/step\n",
            "261/261 [==============================] - 4s 16ms/step\n",
            "27/27 [==============================] - 0s 16ms/step\n",
            "261/261 [==============================] - 4s 16ms/step\n",
            "27/27 [==============================] - 0s 15ms/step\n",
            "261/261 [==============================] - 4s 15ms/step\n",
            "27/27 [==============================] - 0s 16ms/step\n",
            "261/261 [==============================] - 4s 16ms/step\n",
            "27/27 [==============================] - 0s 15ms/step\n",
            "261/261 [==============================] - 4s 15ms/step\n",
            "27/27 [==============================] - 0s 15ms/step\n",
            "261/261 [==============================] - 4s 16ms/step\n",
            "27/27 [==============================] - 0s 17ms/step\n",
            "261/261 [==============================] - 4s 16ms/step\n",
            "27/27 [==============================] - 0s 16ms/step\n",
            "261/261 [==============================] - 4s 15ms/step\n",
            "27/27 [==============================] - 0s 15ms/step\n",
            "261/261 [==============================] - 4s 16ms/step\n",
            "27/27 [==============================] - 0s 16ms/step\n",
            "261/261 [==============================] - 4s 15ms/step\n",
            "27/27 [==============================] - 0s 15ms/step\n",
            "261/261 [==============================] - 4s 15ms/step\n",
            "27/27 [==============================] - 0s 16ms/step\n",
            "261/261 [==============================] - 4s 16ms/step\n",
            "27/27 [==============================] - 0s 17ms/step\n",
            "261/261 [==============================] - 4s 15ms/step\n",
            "27/27 [==============================] - 0s 15ms/step\n",
            "261/261 [==============================] - 4s 16ms/step\n",
            "27/27 [==============================] - 0s 17ms/step\n",
            "261/261 [==============================] - 4s 16ms/step\n",
            "27/27 [==============================] - 0s 15ms/step\n",
            "261/261 [==============================] - 4s 15ms/step\n",
            "27/27 [==============================] - 0s 16ms/step\n",
            "261/261 [==============================] - 4s 16ms/step\n",
            "27/27 [==============================] - 0s 16ms/step\n",
            "261/261 [==============================] - 4s 15ms/step\n",
            "27/27 [==============================] - 0s 15ms/step\n",
            "261/261 [==============================] - 4s 16ms/step\n",
            "27/27 [==============================] - 0s 16ms/step\n",
            "261/261 [==============================] - 4s 16ms/step\n",
            "27/27 [==============================] - 0s 16ms/step\n",
            "261/261 [==============================] - 4s 15ms/step\n",
            "27/27 [==============================] - 0s 16ms/step\n",
            "261/261 [==============================] - 4s 16ms/step\n",
            "27/27 [==============================] - 0s 16ms/step\n",
            "261/261 [==============================] - 4s 16ms/step\n",
            "27/27 [==============================] - 0s 15ms/step\n",
            "261/261 [==============================] - 4s 15ms/step\n",
            "27/27 [==============================] - 0s 15ms/step\n",
            "261/261 [==============================] - 4s 16ms/step\n",
            "27/27 [==============================] - 0s 17ms/step\n",
            "261/261 [==============================] - 4s 16ms/step\n",
            "27/27 [==============================] - 0s 16ms/step\n",
            "261/261 [==============================] - 4s 16ms/step\n",
            "27/27 [==============================] - 0s 16ms/step\n",
            "261/261 [==============================] - 4s 16ms/step\n",
            "27/27 [==============================] - 0s 15ms/step\n",
            "261/261 [==============================] - 4s 16ms/step\n",
            "27/27 [==============================] - 0s 15ms/step\n",
            "261/261 [==============================] - 4s 16ms/step\n",
            "27/27 [==============================] - 0s 16ms/step\n",
            "261/261 [==============================] - 4s 16ms/step\n",
            "27/27 [==============================] - 0s 16ms/step\n",
            "261/261 [==============================] - 4s 16ms/step\n",
            "27/27 [==============================] - 0s 16ms/step\n",
            "261/261 [==============================] - 4s 16ms/step\n",
            "27/27 [==============================] - 0s 16ms/step\n",
            "261/261 [==============================] - 4s 16ms/step\n",
            "27/27 [==============================] - 0s 16ms/step\n",
            "261/261 [==============================] - 4s 15ms/step\n",
            "27/27 [==============================] - 0s 16ms/step\n",
            "Epoch 1/5\n",
            "196/196 [==============================] - 54s 266ms/step - loss: 0.1649 - harmonic: 0.0000e+00 - val_loss: 2.0842 - val_harmonic: 0.0000e+00\n",
            "Epoch 2/5\n"
          ]
        },
        {
          "output_type": "stream",
          "name": "stderr",
          "text": [
            "/usr/local/lib/python3.10/dist-packages/keras/src/engine/training.py:3103: UserWarning: You are saving your model as an HDF5 file via `model.save()`. This file format is considered legacy. We recommend using instead the native Keras format, e.g. `model.save('my_model.keras')`.\n",
            "  saving_api.save_model(\n"
          ]
        },
        {
          "output_type": "stream",
          "name": "stdout",
          "text": [
            "196/196 [==============================] - 53s 269ms/step - loss: 0.0748 - harmonic: 0.0000e+00 - val_loss: 1.3805 - val_harmonic: 0.0000e+00\n",
            "Epoch 3/5\n",
            "196/196 [==============================] - 53s 271ms/step - loss: 0.0522 - harmonic: 0.0000e+00 - val_loss: 1.3748 - val_harmonic: 0.0000e+00\n",
            "Epoch 4/5\n",
            "196/196 [==============================] - 53s 269ms/step - loss: 0.0428 - harmonic: 0.0000e+00 - val_loss: 1.4418 - val_harmonic: 0.0000e+00\n",
            "Epoch 5/5\n",
            "196/196 [==============================] - 53s 271ms/step - loss: 0.0405 - harmonic: 0.0000e+00 - val_loss: 1.7568 - val_harmonic: 0.0000e+00\n",
            "261/261 [==============================] - 4s 16ms/step\n",
            "27/27 [==============================] - 0s 15ms/step\n",
            "261/261 [==============================] - 4s 16ms/step\n",
            "27/27 [==============================] - 0s 16ms/step\n",
            "261/261 [==============================] - 4s 16ms/step\n",
            "27/27 [==============================] - 0s 16ms/step\n",
            "261/261 [==============================] - 4s 16ms/step\n",
            "27/27 [==============================] - 0s 16ms/step\n",
            "261/261 [==============================] - 4s 16ms/step\n",
            "27/27 [==============================] - 0s 16ms/step\n",
            "261/261 [==============================] - 4s 16ms/step\n",
            "27/27 [==============================] - 0s 16ms/step\n",
            "261/261 [==============================] - 4s 16ms/step\n",
            "27/27 [==============================] - 0s 15ms/step\n",
            "261/261 [==============================] - 4s 16ms/step\n",
            "27/27 [==============================] - 0s 16ms/step\n",
            "261/261 [==============================] - 4s 16ms/step\n",
            "27/27 [==============================] - 0s 15ms/step\n",
            "261/261 [==============================] - 4s 16ms/step\n",
            "27/27 [==============================] - 0s 16ms/step\n",
            "261/261 [==============================] - 4s 16ms/step\n",
            "27/27 [==============================] - 0s 17ms/step\n",
            "261/261 [==============================] - 4s 16ms/step\n",
            "27/27 [==============================] - 0s 15ms/step\n",
            "261/261 [==============================] - 4s 15ms/step\n",
            "27/27 [==============================] - 0s 16ms/step\n",
            "261/261 [==============================] - 4s 16ms/step\n",
            "27/27 [==============================] - 0s 16ms/step\n",
            "261/261 [==============================] - 4s 16ms/step\n",
            "27/27 [==============================] - 0s 15ms/step\n",
            "261/261 [==============================] - 4s 15ms/step\n",
            "27/27 [==============================] - 0s 16ms/step\n",
            "261/261 [==============================] - 4s 16ms/step\n",
            "27/27 [==============================] - 0s 16ms/step\n",
            "261/261 [==============================] - 4s 16ms/step\n",
            "27/27 [==============================] - 0s 16ms/step\n",
            "261/261 [==============================] - 4s 16ms/step\n",
            "27/27 [==============================] - 0s 16ms/step\n",
            "261/261 [==============================] - 4s 16ms/step\n",
            "27/27 [==============================] - 0s 16ms/step\n",
            "261/261 [==============================] - 4s 16ms/step\n",
            "27/27 [==============================] - 0s 15ms/step\n",
            "261/261 [==============================] - 4s 16ms/step\n",
            "27/27 [==============================] - 0s 16ms/step\n",
            "261/261 [==============================] - 4s 16ms/step\n",
            "27/27 [==============================] - 0s 17ms/step\n",
            "261/261 [==============================] - 4s 16ms/step\n",
            "27/27 [==============================] - 0s 16ms/step\n",
            "261/261 [==============================] - 4s 16ms/step\n",
            "27/27 [==============================] - 0s 16ms/step\n",
            "261/261 [==============================] - 4s 15ms/step\n",
            "27/27 [==============================] - 0s 15ms/step\n",
            "261/261 [==============================] - 4s 16ms/step\n",
            "27/27 [==============================] - 0s 16ms/step\n",
            "261/261 [==============================] - 4s 16ms/step\n",
            "27/27 [==============================] - 0s 16ms/step\n",
            "261/261 [==============================] - 4s 15ms/step\n",
            "27/27 [==============================] - 0s 16ms/step\n",
            "261/261 [==============================] - 4s 16ms/step\n",
            "27/27 [==============================] - 0s 16ms/step\n",
            "261/261 [==============================] - 4s 16ms/step\n",
            "27/27 [==============================] - 0s 16ms/step\n",
            "261/261 [==============================] - 4s 16ms/step\n",
            "27/27 [==============================] - 0s 16ms/step\n",
            "261/261 [==============================] - 4s 16ms/step\n",
            "27/27 [==============================] - 0s 15ms/step\n",
            "261/261 [==============================] - 4s 15ms/step\n",
            "27/27 [==============================] - 0s 16ms/step\n",
            "261/261 [==============================] - 4s 16ms/step\n",
            "27/27 [==============================] - 0s 16ms/step\n",
            "261/261 [==============================] - 4s 16ms/step\n",
            "27/27 [==============================] - 0s 15ms/step\n",
            "261/261 [==============================] - 4s 15ms/step\n",
            "27/27 [==============================] - 0s 15ms/step\n",
            "261/261 [==============================] - 4s 16ms/step\n",
            "27/27 [==============================] - 0s 16ms/step\n",
            "261/261 [==============================] - 4s 15ms/step\n",
            "27/27 [==============================] - 0s 15ms/step\n",
            "261/261 [==============================] - 4s 15ms/step\n",
            "27/27 [==============================] - 0s 15ms/step\n",
            "261/261 [==============================] - 4s 16ms/step\n",
            "27/27 [==============================] - 0s 16ms/step\n",
            "261/261 [==============================] - 4s 16ms/step\n",
            "27/27 [==============================] - 0s 16ms/step\n",
            "261/261 [==============================] - 4s 16ms/step\n",
            "27/27 [==============================] - 0s 16ms/step\n",
            "261/261 [==============================] - 4s 16ms/step\n",
            "27/27 [==============================] - 0s 15ms/step\n",
            "261/261 [==============================] - 4s 16ms/step\n",
            "27/27 [==============================] - 0s 16ms/step\n",
            "261/261 [==============================] - 4s 16ms/step\n",
            "27/27 [==============================] - 0s 16ms/step\n",
            "261/261 [==============================] - 4s 16ms/step\n",
            "27/27 [==============================] - 0s 15ms/step\n",
            "261/261 [==============================] - 4s 15ms/step\n",
            "27/27 [==============================] - 0s 15ms/step\n",
            "261/261 [==============================] - 4s 16ms/step\n",
            "27/27 [==============================] - 0s 15ms/step\n",
            "261/261 [==============================] - 4s 15ms/step\n",
            "27/27 [==============================] - 0s 16ms/step\n",
            "261/261 [==============================] - 4s 15ms/step\n",
            "27/27 [==============================] - 0s 16ms/step\n",
            "261/261 [==============================] - 4s 16ms/step\n",
            "27/27 [==============================] - 0s 15ms/step\n",
            "261/261 [==============================] - 4s 15ms/step\n",
            "27/27 [==============================] - 0s 15ms/step\n",
            "261/261 [==============================] - 4s 15ms/step\n",
            "27/27 [==============================] - 0s 16ms/step\n",
            "261/261 [==============================] - 4s 15ms/step\n",
            "27/27 [==============================] - 0s 15ms/step\n",
            "261/261 [==============================] - 4s 16ms/step\n",
            "27/27 [==============================] - 0s 16ms/step\n",
            "best auc =  0.0\n",
            "best index =  0\n"
          ]
        }
      ],
      "source": [
        "from tqdm.notebook import tqdm\n",
        "\n",
        "best_auc = -1\n",
        "best_idx = -1\n",
        "for i in tqdm(range(3)):\n",
        "  if i < len(models):\n",
        "    conv_model = models[i]\n",
        "    conv_model.fit(\n",
        "        batch_size=128,\n",
        "        epochs=5,\n",
        "        x_train=X_train_concat,\n",
        "        y_train=y_train,\n",
        "        x_val=conv_model_X,\n",
        "        y_val=conv_model_y\n",
        "    )\n",
        "\n",
        "    conv_model.eval_metrics()\n",
        "    if conv_model.ausuc_val > best_auc:\n",
        "      best_auc = conv_model.ausuc_val\n",
        "      best_idx = i\n",
        "\n",
        "print(\"best auc = \", best_auc)\n",
        "print(\"best index = \", best_idx)"
      ]
    },
    {
      "cell_type": "code",
      "source": [
        "print(models[best_idx].ausuc_val, models[best_idx].best_gamma, models[best_idx].harmonic_val, models[best_idx].bsc, models[best_idx].busc)"
      ],
      "metadata": {
        "colab": {
          "base_uri": "https://localhost:8080/"
        },
        "id": "NkWVbfDQemBt",
        "outputId": "ba5c3d13-2c5e-45aa-ba9f-4d3f5a523a64"
      },
      "execution_count": null,
      "outputs": [
        {
          "output_type": "stream",
          "name": "stdout",
          "text": [
            "0.0 0.1 0.0 0.969940119760479 0.0\n"
          ]
        }
      ]
    },
    {
      "cell_type": "code",
      "source": [
        "models[best_idx].seen_accs"
      ],
      "metadata": {
        "colab": {
          "base_uri": "https://localhost:8080/"
        },
        "id": "f8u8N1aJeoMK",
        "outputId": "2cfe4076-e9c6-46f5-b3fb-30c6a85cf3ad"
      },
      "execution_count": null,
      "outputs": [
        {
          "output_type": "execute_result",
          "data": {
            "text/plain": [
              "array([0.91161677, 0.96994012, 0.9702994 , 0.97053892, 0.97077844,\n",
              "       0.97101796, 0.97125749, 0.97149701, 0.97185629, 0.97221557,\n",
              "       0.97269461, 0.97269461, 0.97281437, 0.97329341, 0.97365269,\n",
              "       0.97413174, 0.97461078, 0.97461078, 0.9748503 , 0.97508982,\n",
              "       0.97556886, 0.97568862, 0.97568862, 0.97580838, 0.97628743,\n",
              "       0.97628743, 0.97676647, 0.97700599, 0.97760479, 0.97796407,\n",
              "       0.97820359, 0.97856287, 0.97916168, 0.97964072, 0.97964072,\n",
              "       0.98023952, 0.9805988 , 0.9805988 , 0.98071856, 0.9811976 ,\n",
              "       0.98131737, 0.98131737, 0.98167665, 0.98167665, 0.98179641,\n",
              "       0.98191617, 0.98191617, 0.98203593, 0.98227545, 0.98239521,\n",
              "       0.98239521, 0.98251497, 0.98251497, 0.98275449, 0.98299401,\n",
              "       0.98311377])"
            ]
          },
          "metadata": {},
          "execution_count": 209
        }
      ]
    },
    {
      "cell_type": "code",
      "source": [
        "models[best_idx].unseen_accs"
      ],
      "metadata": {
        "colab": {
          "base_uri": "https://localhost:8080/"
        },
        "id": "Viu7liCDeqTG",
        "outputId": "164432b1-8cd9-47a2-f912-724705fca506"
      },
      "execution_count": null,
      "outputs": [
        {
          "output_type": "execute_result",
          "data": {
            "text/plain": [
              "array([0., 0., 0., 0., 0., 0., 0., 0., 0., 0., 0., 0., 0., 0., 0., 0., 0.,\n",
              "       0., 0., 0., 0., 0., 0., 0., 0., 0., 0., 0., 0., 0., 0., 0., 0., 0.,\n",
              "       0., 0., 0., 0., 0., 0., 0., 0., 0., 0., 0., 0., 0., 0., 0., 0., 0.,\n",
              "       0., 0., 0., 0., 0.])"
            ]
          },
          "metadata": {},
          "execution_count": 210
        }
      ]
    }
  ],
  "metadata": {
    "colab": {
      "provenance": [],
      "gpuType": "T4",
      "machine_shape": "hm",
      "include_colab_link": true
    },
    "kernelspec": {
      "display_name": "Python 3",
      "name": "python3"
    },
    "language_info": {
      "name": "python"
    },
    "accelerator": "GPU",
    "widgets": {
      "application/vnd.jupyter.widget-state+json": {
        "dc6cbbf2cca04a7cbdc882550e7977df": {
          "model_module": "@jupyter-widgets/controls",
          "model_name": "HBoxModel",
          "model_module_version": "1.5.0",
          "state": {
            "_dom_classes": [],
            "_model_module": "@jupyter-widgets/controls",
            "_model_module_version": "1.5.0",
            "_model_name": "HBoxModel",
            "_view_count": null,
            "_view_module": "@jupyter-widgets/controls",
            "_view_module_version": "1.5.0",
            "_view_name": "HBoxView",
            "box_style": "",
            "children": [
              "IPY_MODEL_4a52178393384e93b273b98fc6ed026c",
              "IPY_MODEL_b6b8562fddfe4fc0a9dd88f8d3fa70aa",
              "IPY_MODEL_f68bb9a2bacc4b0d844ae95732a50c6f"
            ],
            "layout": "IPY_MODEL_1faeec2cb80a47cebeca7bf129fc507c"
          }
        },
        "4a52178393384e93b273b98fc6ed026c": {
          "model_module": "@jupyter-widgets/controls",
          "model_name": "HTMLModel",
          "model_module_version": "1.5.0",
          "state": {
            "_dom_classes": [],
            "_model_module": "@jupyter-widgets/controls",
            "_model_module_version": "1.5.0",
            "_model_name": "HTMLModel",
            "_view_count": null,
            "_view_module": "@jupyter-widgets/controls",
            "_view_module_version": "1.5.0",
            "_view_name": "HTMLView",
            "description": "",
            "description_tooltip": null,
            "layout": "IPY_MODEL_bb078339975745bd8114f9a56206b579",
            "placeholder": "​",
            "style": "IPY_MODEL_5780ac3acbf2433ba726e767187cf9f7",
            "value": "100%"
          }
        },
        "b6b8562fddfe4fc0a9dd88f8d3fa70aa": {
          "model_module": "@jupyter-widgets/controls",
          "model_name": "FloatProgressModel",
          "model_module_version": "1.5.0",
          "state": {
            "_dom_classes": [],
            "_model_module": "@jupyter-widgets/controls",
            "_model_module_version": "1.5.0",
            "_model_name": "FloatProgressModel",
            "_view_count": null,
            "_view_module": "@jupyter-widgets/controls",
            "_view_module_version": "1.5.0",
            "_view_name": "ProgressView",
            "bar_style": "success",
            "description": "",
            "description_tooltip": null,
            "layout": "IPY_MODEL_3121a758a9ff47dc81a38f21276ca299",
            "max": 3,
            "min": 0,
            "orientation": "horizontal",
            "style": "IPY_MODEL_514f0ac2b1684cd7bd4a6ace2230b255",
            "value": 3
          }
        },
        "f68bb9a2bacc4b0d844ae95732a50c6f": {
          "model_module": "@jupyter-widgets/controls",
          "model_name": "HTMLModel",
          "model_module_version": "1.5.0",
          "state": {
            "_dom_classes": [],
            "_model_module": "@jupyter-widgets/controls",
            "_model_module_version": "1.5.0",
            "_model_name": "HTMLModel",
            "_view_count": null,
            "_view_module": "@jupyter-widgets/controls",
            "_view_module_version": "1.5.0",
            "_view_name": "HTMLView",
            "description": "",
            "description_tooltip": null,
            "layout": "IPY_MODEL_a8d2417779d34a38b382f010f9d18510",
            "placeholder": "​",
            "style": "IPY_MODEL_296d17711177443f922a7f6613979902",
            "value": " 3/3 [26:36&lt;00:00, 532.83s/it]"
          }
        },
        "1faeec2cb80a47cebeca7bf129fc507c": {
          "model_module": "@jupyter-widgets/base",
          "model_name": "LayoutModel",
          "model_module_version": "1.2.0",
          "state": {
            "_model_module": "@jupyter-widgets/base",
            "_model_module_version": "1.2.0",
            "_model_name": "LayoutModel",
            "_view_count": null,
            "_view_module": "@jupyter-widgets/base",
            "_view_module_version": "1.2.0",
            "_view_name": "LayoutView",
            "align_content": null,
            "align_items": null,
            "align_self": null,
            "border": null,
            "bottom": null,
            "display": null,
            "flex": null,
            "flex_flow": null,
            "grid_area": null,
            "grid_auto_columns": null,
            "grid_auto_flow": null,
            "grid_auto_rows": null,
            "grid_column": null,
            "grid_gap": null,
            "grid_row": null,
            "grid_template_areas": null,
            "grid_template_columns": null,
            "grid_template_rows": null,
            "height": null,
            "justify_content": null,
            "justify_items": null,
            "left": null,
            "margin": null,
            "max_height": null,
            "max_width": null,
            "min_height": null,
            "min_width": null,
            "object_fit": null,
            "object_position": null,
            "order": null,
            "overflow": null,
            "overflow_x": null,
            "overflow_y": null,
            "padding": null,
            "right": null,
            "top": null,
            "visibility": null,
            "width": null
          }
        },
        "bb078339975745bd8114f9a56206b579": {
          "model_module": "@jupyter-widgets/base",
          "model_name": "LayoutModel",
          "model_module_version": "1.2.0",
          "state": {
            "_model_module": "@jupyter-widgets/base",
            "_model_module_version": "1.2.0",
            "_model_name": "LayoutModel",
            "_view_count": null,
            "_view_module": "@jupyter-widgets/base",
            "_view_module_version": "1.2.0",
            "_view_name": "LayoutView",
            "align_content": null,
            "align_items": null,
            "align_self": null,
            "border": null,
            "bottom": null,
            "display": null,
            "flex": null,
            "flex_flow": null,
            "grid_area": null,
            "grid_auto_columns": null,
            "grid_auto_flow": null,
            "grid_auto_rows": null,
            "grid_column": null,
            "grid_gap": null,
            "grid_row": null,
            "grid_template_areas": null,
            "grid_template_columns": null,
            "grid_template_rows": null,
            "height": null,
            "justify_content": null,
            "justify_items": null,
            "left": null,
            "margin": null,
            "max_height": null,
            "max_width": null,
            "min_height": null,
            "min_width": null,
            "object_fit": null,
            "object_position": null,
            "order": null,
            "overflow": null,
            "overflow_x": null,
            "overflow_y": null,
            "padding": null,
            "right": null,
            "top": null,
            "visibility": null,
            "width": null
          }
        },
        "5780ac3acbf2433ba726e767187cf9f7": {
          "model_module": "@jupyter-widgets/controls",
          "model_name": "DescriptionStyleModel",
          "model_module_version": "1.5.0",
          "state": {
            "_model_module": "@jupyter-widgets/controls",
            "_model_module_version": "1.5.0",
            "_model_name": "DescriptionStyleModel",
            "_view_count": null,
            "_view_module": "@jupyter-widgets/base",
            "_view_module_version": "1.2.0",
            "_view_name": "StyleView",
            "description_width": ""
          }
        },
        "3121a758a9ff47dc81a38f21276ca299": {
          "model_module": "@jupyter-widgets/base",
          "model_name": "LayoutModel",
          "model_module_version": "1.2.0",
          "state": {
            "_model_module": "@jupyter-widgets/base",
            "_model_module_version": "1.2.0",
            "_model_name": "LayoutModel",
            "_view_count": null,
            "_view_module": "@jupyter-widgets/base",
            "_view_module_version": "1.2.0",
            "_view_name": "LayoutView",
            "align_content": null,
            "align_items": null,
            "align_self": null,
            "border": null,
            "bottom": null,
            "display": null,
            "flex": null,
            "flex_flow": null,
            "grid_area": null,
            "grid_auto_columns": null,
            "grid_auto_flow": null,
            "grid_auto_rows": null,
            "grid_column": null,
            "grid_gap": null,
            "grid_row": null,
            "grid_template_areas": null,
            "grid_template_columns": null,
            "grid_template_rows": null,
            "height": null,
            "justify_content": null,
            "justify_items": null,
            "left": null,
            "margin": null,
            "max_height": null,
            "max_width": null,
            "min_height": null,
            "min_width": null,
            "object_fit": null,
            "object_position": null,
            "order": null,
            "overflow": null,
            "overflow_x": null,
            "overflow_y": null,
            "padding": null,
            "right": null,
            "top": null,
            "visibility": null,
            "width": null
          }
        },
        "514f0ac2b1684cd7bd4a6ace2230b255": {
          "model_module": "@jupyter-widgets/controls",
          "model_name": "ProgressStyleModel",
          "model_module_version": "1.5.0",
          "state": {
            "_model_module": "@jupyter-widgets/controls",
            "_model_module_version": "1.5.0",
            "_model_name": "ProgressStyleModel",
            "_view_count": null,
            "_view_module": "@jupyter-widgets/base",
            "_view_module_version": "1.2.0",
            "_view_name": "StyleView",
            "bar_color": null,
            "description_width": ""
          }
        },
        "a8d2417779d34a38b382f010f9d18510": {
          "model_module": "@jupyter-widgets/base",
          "model_name": "LayoutModel",
          "model_module_version": "1.2.0",
          "state": {
            "_model_module": "@jupyter-widgets/base",
            "_model_module_version": "1.2.0",
            "_model_name": "LayoutModel",
            "_view_count": null,
            "_view_module": "@jupyter-widgets/base",
            "_view_module_version": "1.2.0",
            "_view_name": "LayoutView",
            "align_content": null,
            "align_items": null,
            "align_self": null,
            "border": null,
            "bottom": null,
            "display": null,
            "flex": null,
            "flex_flow": null,
            "grid_area": null,
            "grid_auto_columns": null,
            "grid_auto_flow": null,
            "grid_auto_rows": null,
            "grid_column": null,
            "grid_gap": null,
            "grid_row": null,
            "grid_template_areas": null,
            "grid_template_columns": null,
            "grid_template_rows": null,
            "height": null,
            "justify_content": null,
            "justify_items": null,
            "left": null,
            "margin": null,
            "max_height": null,
            "max_width": null,
            "min_height": null,
            "min_width": null,
            "object_fit": null,
            "object_position": null,
            "order": null,
            "overflow": null,
            "overflow_x": null,
            "overflow_y": null,
            "padding": null,
            "right": null,
            "top": null,
            "visibility": null,
            "width": null
          }
        },
        "296d17711177443f922a7f6613979902": {
          "model_module": "@jupyter-widgets/controls",
          "model_name": "DescriptionStyleModel",
          "model_module_version": "1.5.0",
          "state": {
            "_model_module": "@jupyter-widgets/controls",
            "_model_module_version": "1.5.0",
            "_model_name": "DescriptionStyleModel",
            "_view_count": null,
            "_view_module": "@jupyter-widgets/base",
            "_view_module_version": "1.2.0",
            "_view_name": "StyleView",
            "description_width": ""
          }
        }
      }
    }
  },
  "nbformat": 4,
  "nbformat_minor": 0
}